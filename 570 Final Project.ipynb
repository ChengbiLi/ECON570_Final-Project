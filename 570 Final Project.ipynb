{
 "cells": [
  {
   "cell_type": "markdown",
   "id": "36dab7a2",
   "metadata": {},
   "source": [
    "## ECON570 Final Project"
   ]
  },
  {
   "cell_type": "markdown",
   "id": "9aecd480",
   "metadata": {},
   "source": [
    "### Research on the happiness level of Chinese residents in the period of economic slowdown——Empirical analysis based on CFPS database"
   ]
  },
  {
   "cell_type": "markdown",
   "id": "e160fbc3",
   "metadata": {},
   "source": [
    "### Group member: Chengbi Li, Liejiang Zhu, Shuyu Ouyang"
   ]
  },
  {
   "cell_type": "markdown",
   "id": "f1722494",
   "metadata": {},
   "source": [
    "### 1.Introduction"
   ]
  },
  {
   "cell_type": "markdown",
   "id": "df4b9f8d",
   "metadata": {},
   "source": [
    "#### a. Backgroud and main purpose of the project"
   ]
  },
  {
   "cell_type": "markdown",
   "id": "4f95e768",
   "metadata": {},
   "source": [
    "#### Since the reform and opening, China has experienced a long economic development time. China’s annual growth rate reached 9.78% between 1978 and 2011 averagely, considered as a miracle in the history of economic development. It is commonly believed that the two reasons for that high growth are demographic dividend and globalization. Demographic dividend brings China lots of labors to motivate the growth on the supply side, while globalization stimulates the growth on the demand side. Both effects propelled China’s economy a 32-year prosperous age."
   ]
  },
  {
   "cell_type": "markdown",
   "id": "e43ed31d",
   "metadata": {},
   "source": [
    "#### However, China’s annual GDP growth rate has desended since 2012. Its annual GDP growth rate is 7.7%, 7.4%, 6.9% and 6.7% respectively from 2013 to 2016. It has become a common fact that China’s economic growth has shifted from a high-speed growth to a medium-speed growth. Correspondingly, the total population in labor market aged from 16 to 59 decreased by 4.87 million, and its proportion in total population dropped by 0.7% in 2015. Diminishing demographic dividend pushes up labor cost, causing more pressure for China’s economy."
   ]
  },
  {
   "cell_type": "markdown",
   "id": "fffc3400",
   "metadata": {},
   "source": [
    "#### An issue is often mentioned when researching China’s economy which is happiness growth does not match economic growth. All walks of life in China has been endeavoring to find a method to ease this issue in recent years."
   ]
  },
  {
   "cell_type": "markdown",
   "id": "ee553df4",
   "metadata": {},
   "source": [
    "#### This paper utilizes CFPS (China Family Panel Studies) to track and analyze financial situations and well-beings of households, trying to outline the changes in Chinese happiness, which can contribute to policymaking. The significance of this paper situates in two major key points. Firstly, we hope to figure out whether or not people’s happiness would decline during a diminishing growth age, which can be the opposite side of “Happiness Paradox”. Happiness Paradox represents that the improvement of material life does not accord with the increment in happiness. We explore whether or not this paradox exists in China by analyzing data. Secondly, what we try to probe into is if there are other factors having more impacts on people’s happiness except income in an globalization era when economic development reaches such unprecedent level, which plays an extremely important role in policymaking"
   ]
  },
  {
   "cell_type": "markdown",
   "id": "ad7ecd36",
   "metadata": {},
   "source": [
    "#### b. Why should we care about this question?"
   ]
  },
  {
   "cell_type": "markdown",
   "id": "0214d906",
   "metadata": {},
   "source": [
    "#### 2016-2018 is a very special period for China. From this time point, China's GDP growth began to slow down significantly. And in 2019, China broke out the COVID-19. The impact of the epidemic made it difficult for us to study the relationship between Chinese residents' happiness and income. Therefore, we look at the data from 2016 to 2018 and use CFPS data to analyze whether there is a happiness paradox in China during this time period. This is a relatively innovative research. We found that there is almost no relevant literature to study the casual effect of income on Chinese happiness level in such a special period."
   ]
  },
  {
   "cell_type": "markdown",
   "id": "2d317e85",
   "metadata": {},
   "source": [
    "#### c. Literature review"
   ]
  },
  {
   "cell_type": "markdown",
   "id": "c768b7f7",
   "metadata": {},
   "source": [
    "#### There is always a paradox that: Although the average income level of the rich is higher than that of the poor, the happiness level of poor countries is almost as high as that of rich countries, a problem that later researchers called Easterlin's paradox (Easterlin, 1974). He found that relative income, not absolute income, should be used when studying this problem, that is, if the income level of all people in a country increases accordingly, the increase in happiness brought about by the increase in one's own income will be used by others. This is offset by unhappiness from rising incomes (Easterlin, 1995)."
   ]
  },
  {
   "cell_type": "markdown",
   "id": "abda4298",
   "metadata": {},
   "source": [
    "#### There are two main explanations for the research on Easterlin's paradox. The first direction is that some non-income factors can also affect people's happiness, such as local education, environment, medical level, etc. Therefore, a country's GNI cannot fully serve as a A key factor in measuring the level of regional happiness, but there are also many criticisms of the interpretation of this direction. Some economists believe that with economic growth, these non-income factors are also increasing accordingly. Generally speaking, the environment in developed countries It is not undermined by local economic development, and better economic conditions can also provide better education for local residents. From this perspective, the endogenous nature of economic growth and these non-income factors makes this statement persuasive. Greatly discounted. The second direction is that individual utility will be positively related to one’s own income level, but negatively related to the average social income level, which is why relative wage level can explain a key factor in the happiness of a country’s residents. The explanation of this paradox is also mainly carried out from this direction."
   ]
  },
  {
   "cell_type": "markdown",
   "id": "4dae87f2",
   "metadata": {},
   "source": [
    "### 2.Data"
   ]
  },
  {
   "cell_type": "markdown",
   "id": "447cbc66",
   "metadata": {},
   "source": [
    "#### a. Source of the data"
   ]
  },
  {
   "cell_type": "markdown",
   "id": "a9d10bcd",
   "metadata": {},
   "source": [
    "#### Our research data comes from 2016-2018 CFPS(Chinese Family Panel Studies) database.It is a major social science project implemented by the China Social Science Survey Center of Peking University. It aims to reflect the changes of China's society, economy, population, education and health by tracking and collecting data at the three levels of individual, family and community, and provide data for academic research and policy decision-making. The database contains many useful information that can help us to conduct relative research."
   ]
  },
  {
   "cell_type": "markdown",
   "id": "2f0da765",
   "metadata": {},
   "source": [
    "#### b. Discussion of how we deal with the data"
   ]
  },
  {
   "cell_type": "code",
   "execution_count": 1,
   "id": "1d8f79b8",
   "metadata": {},
   "outputs": [],
   "source": [
    "import pandas as pd               \n",
    "import numpy as np               \n",
    "import matplotlib.pyplot as plt  \n",
    "from matplotlib.ticker import FuncFormatter\n",
    "import seaborn as sns  \n",
    "import seaborn as sn\n",
    "from dateutil import *            \n",
    "import math                      \n",
    "import statsmodels.formula.api as smf  \n",
    "import statsmodels.api as sm     \n",
    "from collections import Counter   \n",
    "import scipy\n",
    "from sklearn.model_selection import train_test_split\n",
    "from sklearn.linear_model import LogisticRegression\n",
    "from sklearn import metrics\n",
    "from numpy.random import randn\n",
    "from sklearn.linear_model import LinearRegression\n",
    "import graphviz as gr"
   ]
  },
  {
   "cell_type": "markdown",
   "id": "7e4b0186",
   "metadata": {},
   "source": [
    "#### In order to study the accuracy, we mainly deal with the data in two ways. One is to remove the individuals whose income is 0, because we want to study the relationship between income growth and well-being, and the other is to generate log_ Income is a data item, which is convenient for us to analyze"
   ]
  },
  {
   "cell_type": "code",
   "execution_count": 2,
   "id": "4642b8d3",
   "metadata": {},
   "outputs": [],
   "source": [
    "data = pd.read_csv(\"/Users/lidengbi/Desktop/570/myfile.csv\", \n",
    "                   header=0, \n",
    "                   index_col=False)"
   ]
  },
  {
   "cell_type": "code",
   "execution_count": 3,
   "id": "b7e54d53",
   "metadata": {},
   "outputs": [
    {
     "data": {
      "text/html": [
       "<div>\n",
       "<style scoped>\n",
       "    .dataframe tbody tr th:only-of-type {\n",
       "        vertical-align: middle;\n",
       "    }\n",
       "\n",
       "    .dataframe tbody tr th {\n",
       "        vertical-align: top;\n",
       "    }\n",
       "\n",
       "    .dataframe thead th {\n",
       "        text-align: right;\n",
       "    }\n",
       "</style>\n",
       "<table border=\"1\" class=\"dataframe\">\n",
       "  <thead>\n",
       "    <tr style=\"text-align: right;\">\n",
       "      <th></th>\n",
       "      <th>age</th>\n",
       "      <th>gender</th>\n",
       "      <th>living</th>\n",
       "      <th>edu</th>\n",
       "      <th>exedu</th>\n",
       "      <th>married</th>\n",
       "      <th>income</th>\n",
       "      <th>happiness</th>\n",
       "      <th>status</th>\n",
       "      <th>party</th>\n",
       "      <th>health</th>\n",
       "      <th>y2018</th>\n",
       "      <th>y2016</th>\n",
       "      <th>logincome</th>\n",
       "    </tr>\n",
       "  </thead>\n",
       "  <tbody>\n",
       "    <tr>\n",
       "      <th>0</th>\n",
       "      <td>29</td>\n",
       "      <td>1</td>\n",
       "      <td>0</td>\n",
       "      <td>7</td>\n",
       "      <td>-8</td>\n",
       "      <td>1</td>\n",
       "      <td>100000</td>\n",
       "      <td>1</td>\n",
       "      <td>2</td>\n",
       "      <td>5</td>\n",
       "      <td>5</td>\n",
       "      <td>1</td>\n",
       "      <td>0</td>\n",
       "      <td>5.000000</td>\n",
       "    </tr>\n",
       "    <tr>\n",
       "      <th>1</th>\n",
       "      <td>21</td>\n",
       "      <td>0</td>\n",
       "      <td>1</td>\n",
       "      <td>4</td>\n",
       "      <td>7</td>\n",
       "      <td>1</td>\n",
       "      <td>30000</td>\n",
       "      <td>1</td>\n",
       "      <td>1</td>\n",
       "      <td>5</td>\n",
       "      <td>3</td>\n",
       "      <td>1</td>\n",
       "      <td>0</td>\n",
       "      <td>4.477121</td>\n",
       "    </tr>\n",
       "    <tr>\n",
       "      <th>2</th>\n",
       "      <td>28</td>\n",
       "      <td>0</td>\n",
       "      <td>1</td>\n",
       "      <td>7</td>\n",
       "      <td>-8</td>\n",
       "      <td>1</td>\n",
       "      <td>30000</td>\n",
       "      <td>1</td>\n",
       "      <td>4</td>\n",
       "      <td>5</td>\n",
       "      <td>2</td>\n",
       "      <td>1</td>\n",
       "      <td>0</td>\n",
       "      <td>4.477121</td>\n",
       "    </tr>\n",
       "    <tr>\n",
       "      <th>3</th>\n",
       "      <td>31</td>\n",
       "      <td>0</td>\n",
       "      <td>0</td>\n",
       "      <td>7</td>\n",
       "      <td>-8</td>\n",
       "      <td>1</td>\n",
       "      <td>92000</td>\n",
       "      <td>1</td>\n",
       "      <td>1</td>\n",
       "      <td>5</td>\n",
       "      <td>1</td>\n",
       "      <td>1</td>\n",
       "      <td>0</td>\n",
       "      <td>4.963788</td>\n",
       "    </tr>\n",
       "    <tr>\n",
       "      <th>4</th>\n",
       "      <td>42</td>\n",
       "      <td>1</td>\n",
       "      <td>1</td>\n",
       "      <td>6</td>\n",
       "      <td>-8</td>\n",
       "      <td>1</td>\n",
       "      <td>5000</td>\n",
       "      <td>1</td>\n",
       "      <td>2</td>\n",
       "      <td>1</td>\n",
       "      <td>2</td>\n",
       "      <td>1</td>\n",
       "      <td>0</td>\n",
       "      <td>3.698970</td>\n",
       "    </tr>\n",
       "    <tr>\n",
       "      <th>...</th>\n",
       "      <td>...</td>\n",
       "      <td>...</td>\n",
       "      <td>...</td>\n",
       "      <td>...</td>\n",
       "      <td>...</td>\n",
       "      <td>...</td>\n",
       "      <td>...</td>\n",
       "      <td>...</td>\n",
       "      <td>...</td>\n",
       "      <td>...</td>\n",
       "      <td>...</td>\n",
       "      <td>...</td>\n",
       "      <td>...</td>\n",
       "      <td>...</td>\n",
       "    </tr>\n",
       "    <tr>\n",
       "      <th>8400</th>\n",
       "      <td>22</td>\n",
       "      <td>1</td>\n",
       "      <td>1</td>\n",
       "      <td>3</td>\n",
       "      <td>3</td>\n",
       "      <td>1</td>\n",
       "      <td>30000</td>\n",
       "      <td>1</td>\n",
       "      <td>3</td>\n",
       "      <td>0</td>\n",
       "      <td>2</td>\n",
       "      <td>0</td>\n",
       "      <td>1</td>\n",
       "      <td>4.477121</td>\n",
       "    </tr>\n",
       "    <tr>\n",
       "      <th>8401</th>\n",
       "      <td>21</td>\n",
       "      <td>1</td>\n",
       "      <td>1</td>\n",
       "      <td>2</td>\n",
       "      <td>4</td>\n",
       "      <td>0</td>\n",
       "      <td>25000</td>\n",
       "      <td>1</td>\n",
       "      <td>2</td>\n",
       "      <td>0</td>\n",
       "      <td>2</td>\n",
       "      <td>0</td>\n",
       "      <td>1</td>\n",
       "      <td>4.397940</td>\n",
       "    </tr>\n",
       "    <tr>\n",
       "      <th>8402</th>\n",
       "      <td>18</td>\n",
       "      <td>1</td>\n",
       "      <td>1</td>\n",
       "      <td>1</td>\n",
       "      <td>2</td>\n",
       "      <td>0</td>\n",
       "      <td>30000</td>\n",
       "      <td>1</td>\n",
       "      <td>3</td>\n",
       "      <td>0</td>\n",
       "      <td>2</td>\n",
       "      <td>0</td>\n",
       "      <td>1</td>\n",
       "      <td>4.477121</td>\n",
       "    </tr>\n",
       "    <tr>\n",
       "      <th>8403</th>\n",
       "      <td>20</td>\n",
       "      <td>1</td>\n",
       "      <td>1</td>\n",
       "      <td>3</td>\n",
       "      <td>4</td>\n",
       "      <td>1</td>\n",
       "      <td>15000</td>\n",
       "      <td>1</td>\n",
       "      <td>3</td>\n",
       "      <td>0</td>\n",
       "      <td>2</td>\n",
       "      <td>0</td>\n",
       "      <td>1</td>\n",
       "      <td>4.176091</td>\n",
       "    </tr>\n",
       "    <tr>\n",
       "      <th>8404</th>\n",
       "      <td>22</td>\n",
       "      <td>0</td>\n",
       "      <td>1</td>\n",
       "      <td>2</td>\n",
       "      <td>3</td>\n",
       "      <td>0</td>\n",
       "      <td>42000</td>\n",
       "      <td>1</td>\n",
       "      <td>2</td>\n",
       "      <td>0</td>\n",
       "      <td>2</td>\n",
       "      <td>0</td>\n",
       "      <td>1</td>\n",
       "      <td>4.623249</td>\n",
       "    </tr>\n",
       "  </tbody>\n",
       "</table>\n",
       "<p>8405 rows × 14 columns</p>\n",
       "</div>"
      ],
      "text/plain": [
       "      age  gender  living  edu  exedu  married  income  happiness  status  \\\n",
       "0      29       1       0    7     -8        1  100000          1       2   \n",
       "1      21       0       1    4      7        1   30000          1       1   \n",
       "2      28       0       1    7     -8        1   30000          1       4   \n",
       "3      31       0       0    7     -8        1   92000          1       1   \n",
       "4      42       1       1    6     -8        1    5000          1       2   \n",
       "...   ...     ...     ...  ...    ...      ...     ...        ...     ...   \n",
       "8400   22       1       1    3      3        1   30000          1       3   \n",
       "8401   21       1       1    2      4        0   25000          1       2   \n",
       "8402   18       1       1    1      2        0   30000          1       3   \n",
       "8403   20       1       1    3      4        1   15000          1       3   \n",
       "8404   22       0       1    2      3        0   42000          1       2   \n",
       "\n",
       "      party  health  y2018  y2016  logincome  \n",
       "0         5       5      1      0   5.000000  \n",
       "1         5       3      1      0   4.477121  \n",
       "2         5       2      1      0   4.477121  \n",
       "3         5       1      1      0   4.963788  \n",
       "4         1       2      1      0   3.698970  \n",
       "...     ...     ...    ...    ...        ...  \n",
       "8400      0       2      0      1   4.477121  \n",
       "8401      0       2      0      1   4.397940  \n",
       "8402      0       2      0      1   4.477121  \n",
       "8403      0       2      0      1   4.176091  \n",
       "8404      0       2      0      1   4.623249  \n",
       "\n",
       "[8405 rows x 14 columns]"
      ]
     },
     "execution_count": 3,
     "metadata": {},
     "output_type": "execute_result"
    }
   ],
   "source": [
    "data"
   ]
  },
  {
   "cell_type": "markdown",
   "id": "88231ce6",
   "metadata": {},
   "source": [
    "#### Check the null value"
   ]
  },
  {
   "cell_type": "code",
   "execution_count": 4,
   "id": "37ee86ce",
   "metadata": {},
   "outputs": [
    {
     "data": {
      "text/plain": [
       "age          0.0\n",
       "gender       0.0\n",
       "living       0.0\n",
       "edu          0.0\n",
       "exedu        0.0\n",
       "married      0.0\n",
       "income       0.0\n",
       "happiness    0.0\n",
       "status       0.0\n",
       "party        0.0\n",
       "health       0.0\n",
       "y2018        0.0\n",
       "y2016        0.0\n",
       "logincome    0.0\n",
       "dtype: float64"
      ]
     },
     "execution_count": 4,
     "metadata": {},
     "output_type": "execute_result"
    }
   ],
   "source": [
    "data_null = data.isna().mean()\n",
    "data_null.sort_values(ascending = False)"
   ]
  },
  {
   "cell_type": "markdown",
   "id": "4e3076dc",
   "metadata": {},
   "source": [
    "#### As you can see, null value doesn't exist in our data"
   ]
  },
  {
   "cell_type": "markdown",
   "id": "6792fa80",
   "metadata": {},
   "source": [
    "#### Check the outliers"
   ]
  },
  {
   "cell_type": "code",
   "execution_count": 5,
   "id": "25b15fce",
   "metadata": {},
   "outputs": [
    {
     "data": {
      "text/plain": [
       "(8405, 14)"
      ]
     },
     "execution_count": 5,
     "metadata": {},
     "output_type": "execute_result"
    },
    {
     "data": {
      "image/png": "[encoded data removed]",
      "text/plain": [
       "<Figure size 432x432 with 1 Axes>"
      ]
     },
     "metadata": {
      "needs_background": "light"
     },
     "output_type": "display_data"
    }
   ],
   "source": [
    "outliers = ['income']\n",
    "plt.rcParams['figure.figsize'] = [6,6]\n",
    "sns.boxplot(data=data[outliers], palette=\"Set1\" ,whis=1,saturation=1, width=0.5)\n",
    "plt.title(\"Outliers Distribution\", fontsize = 12, fontweight = 'bold')\n",
    "plt.ylabel(\"Profit Range\", fontweight = 'bold')\n",
    "plt.xlabel(\"Continuous Variable\", fontweight = 'bold')\n",
    "data.shape"
   ]
  },
  {
   "cell_type": "markdown",
   "id": "a479bc79",
   "metadata": {},
   "source": [
    "#### According to the result, most of the income are lower than 200000 yuan, but the distribution of income is consistent with the basic situation in China, so we decided not to remove outliers"
   ]
  },
  {
   "cell_type": "markdown",
   "id": "16ecf941",
   "metadata": {},
   "source": [
    "#### c. Summary statistics"
   ]
  },
  {
   "cell_type": "code",
   "execution_count": 6,
   "id": "b58afb34",
   "metadata": {},
   "outputs": [
    {
     "name": "stdout",
     "output_type": "stream",
     "text": [
      "<class 'pandas.core.frame.DataFrame'>\n",
      "RangeIndex: 8405 entries, 0 to 8404\n",
      "Data columns (total 14 columns):\n",
      " #   Column     Non-Null Count  Dtype  \n",
      "---  ------     --------------  -----  \n",
      " 0   age        8405 non-null   int64  \n",
      " 1   gender     8405 non-null   int64  \n",
      " 2   living     8405 non-null   int64  \n",
      " 3   edu        8405 non-null   int64  \n",
      " 4   exedu      8405 non-null   int64  \n",
      " 5   married    8405 non-null   int64  \n",
      " 6   income     8405 non-null   int64  \n",
      " 7   happiness  8405 non-null   int64  \n",
      " 8   status     8405 non-null   int64  \n",
      " 9   party      8405 non-null   int64  \n",
      " 10  health     8405 non-null   int64  \n",
      " 11  y2018      8405 non-null   int64  \n",
      " 12  y2016      8405 non-null   int64  \n",
      " 13  logincome  8405 non-null   float64\n",
      "dtypes: float64(1), int64(13)\n",
      "memory usage: 919.4 KB\n"
     ]
    }
   ],
   "source": [
    "data.info()"
   ]
  },
  {
   "cell_type": "markdown",
   "id": "29fc768c",
   "metadata": {},
   "source": [
    "#### We draw the distribution for three main indicators"
   ]
  },
  {
   "cell_type": "code",
   "execution_count": 7,
   "id": "f2c0533b",
   "metadata": {},
   "outputs": [
    {
     "data": {
      "image/png": "[encoded data removed]",
      "text/plain": [
       "<Figure size 432x432 with 1 Axes>"
      ]
     },
     "metadata": {
      "needs_background": "light"
     },
     "output_type": "display_data"
    }
   ],
   "source": [
    "plt.rcParams['figure.figsize'] = [6,6]\n",
    "ax=(data['happiness'].value_counts()/data['happiness'].count()).sort_index().plot(kind='bar',stacked=True)\n",
    "plt.title('Distribution of Happiness')\n",
    "plt.xlabel(\"Hapiness\",fontweight = 'bold')\n",
    "plt.ylabel(\"Percentage\",fontweight = 'bold')\n",
    "def to_percent(temp, position):\n",
    "  return '%1.0f'%(100*temp) + '%'\n",
    "plt.gca().yaxis.set_major_formatter(FuncFormatter(to_percent))"
   ]
  },
  {
   "cell_type": "code",
   "execution_count": 8,
   "id": "4bdd1e93",
   "metadata": {},
   "outputs": [
    {
     "data": {
      "image/png": "[encoded data removed]",
      "text/plain": [
       "<Figure size 432x432 with 1 Axes>"
      ]
     },
     "metadata": {
      "needs_background": "light"
     },
     "output_type": "display_data"
    }
   ],
   "source": [
    "plt.rcParams['figure.figsize'] = [6,6]\n",
    "ax=(data['edu'].value_counts()/data['edu'].count()).sort_index().plot(kind='bar',stacked=True)\n",
    "ax.title.set_text('Distribution of Education')\n",
    "plt.xlabel(\"Education\",fontweight = 'bold')\n",
    "plt.ylabel(\"Percentage\",fontweight = 'bold')\n",
    "def to_percent(temp, position):\n",
    "  return '%1.0f'%(100*temp) + '%'\n",
    "plt.gca().yaxis.set_major_formatter(FuncFormatter(to_percent))"
   ]
  },
  {
   "cell_type": "code",
   "execution_count": 9,
   "id": "50a7bead",
   "metadata": {},
   "outputs": [
    {
     "data": {
      "image/png": "[encoded data removed]",
      "text/plain": [
       "<Figure size 432x432 with 1 Axes>"
      ]
     },
     "metadata": {
      "needs_background": "light"
     },
     "output_type": "display_data"
    }
   ],
   "source": [
    "plt.rcParams['figure.figsize'] = [6,6]\n",
    "ax=(data['health'].value_counts()/data['edu'].count()).sort_index().plot(kind='bar',stacked=True)\n",
    "ax.title.set_text('Distribution of Health')\n",
    "plt.xlabel(\"Health\",fontweight = 'bold')\n",
    "plt.ylabel(\"Percentage\",fontweight = 'bold')\n",
    "def to_percent(temp, position):\n",
    "  return '%1.0f'%(100*temp) + '%'\n",
    "plt.gca().yaxis.set_major_formatter(FuncFormatter(to_percent))"
   ]
  },
  {
   "cell_type": "code",
   "execution_count": 10,
   "id": "c2468df8",
   "metadata": {},
   "outputs": [],
   "source": [
    "df_categorical=data[['health', 'edu', 'gender', 'happiness','status',]]"
   ]
  },
  {
   "cell_type": "code",
   "execution_count": 11,
   "id": "aa0f14b7",
   "metadata": {},
   "outputs": [
    {
     "data": {
      "text/plain": [
       "<function matplotlib.pyplot.show(close=None, block=None)>"
      ]
     },
     "execution_count": 11,
     "metadata": {},
     "output_type": "execute_result"
    },
    {
     "data": {
      "image/png": "[encoded data removed]",
      "text/plain": [
       "<Figure size 1008x1296 with 4 Axes>"
      ]
     },
     "metadata": {
      "needs_background": "light"
     },
     "output_type": "display_data"
    }
   ],
   "source": [
    "fig, axes = plt.subplots(figsize=(14, 18))\n",
    "plt.subplot(4, 2, 1)\n",
    "sns.countplot(x=df_categorical['health'],hue=data['happiness'])\n",
    "plt.xlabel('health')\n",
    "plt.subplot(4, 2, 2)\n",
    "sns.countplot(x=df_categorical['edu'],hue=data['happiness'])\n",
    "plt.xlabel('education')\n",
    "plt.subplot(4, 2, 3)\n",
    "sns.countplot(x=df_categorical['gender'],hue=data['happiness'])\n",
    "plt.xlabel('gender')\n",
    "plt.subplot(4, 2, 4)\n",
    "sns.countplot(x=df_categorical['status'],hue=data['happiness'])\n",
    "plt.xlabel('status')\n",
    "plt.show"
   ]
  },
  {
   "cell_type": "markdown",
   "id": "13d42946",
   "metadata": {},
   "source": [
    "### 3.Model"
   ]
  },
  {
   "cell_type": "markdown",
   "id": "5d07f88b",
   "metadata": {},
   "source": [
    "#### a. OLS Regression Model"
   ]
  },
  {
   "cell_type": "code",
   "execution_count": 12,
   "id": "ba3835f0",
   "metadata": {},
   "outputs": [
    {
     "data": {
      "image/svg+xml": [
       "<?xml version=\"1.0\" encoding=\"UTF-8\" standalone=\"no\"?>\n",
       "<!DOCTYPE svg PUBLIC \"-//W3C//DTD SVG 1.1//EN\"\n",
       " \"http://www.w3.org/Graphics/SVG/1.1/DTD/svg11.dtd\">\n",
       "<!-- Generated by graphviz version 2.40.1 (20161225.0304)\n",
       " -->\n",
       "<!-- Title: %3 Pages: 1 -->\n",
       "<svg width=\"192pt\" height=\"116pt\"\n",
       " viewBox=\"0.00 0.00 192.19 116.00\" xmlns=\"http://www.w3.org/2000/svg\" xmlns:xlink=\"http://www.w3.org/1999/xlink\">\n",
       "<g id=\"graph0\" class=\"graph\" transform=\"scale(1 1) rotate(0) translate(4 112)\">\n",
       "<title>%3</title>\n",
       "<polygon fill=\"#ffffff\" stroke=\"transparent\" points=\"-4,4 -4,-112 188.1926,-112 188.1926,4 -4,4\"/>\n",
       "<!-- Income -->\n",
       "<g id=\"node1\" class=\"node\">\n",
       "<title>Income</title>\n",
       "<ellipse fill=\"none\" stroke=\"#000000\" cx=\"37.6967\" cy=\"-90\" rx=\"37.8943\" ry=\"18\"/>\n",
       "<text text-anchor=\"middle\" x=\"37.6967\" y=\"-86.3\" font-family=\"Times,serif\" font-size=\"14.00\" fill=\"#000000\">Income</text>\n",
       "</g>\n",
       "<!-- Happiness -->\n",
       "<g id=\"node2\" class=\"node\">\n",
       "<title>Happiness</title>\n",
       "<ellipse fill=\"none\" stroke=\"#000000\" cx=\"87.6967\" cy=\"-18\" rx=\"48.9926\" ry=\"18\"/>\n",
       "<text text-anchor=\"middle\" x=\"87.6967\" y=\"-14.3\" font-family=\"Times,serif\" font-size=\"14.00\" fill=\"#000000\">Happiness</text>\n",
       "</g>\n",
       "<!-- Income&#45;&gt;Happiness -->\n",
       "<g id=\"edge1\" class=\"edge\">\n",
       "<title>Income&#45;&gt;Happiness</title>\n",
       "<path fill=\"none\" stroke=\"#000000\" d=\"M49.8003,-72.5708C55.7748,-63.9675 63.1025,-53.4156 69.7167,-43.8911\"/>\n",
       "<polygon fill=\"#000000\" stroke=\"#000000\" points=\"72.702,-45.7284 75.5312,-35.5182 66.9524,-41.7356 72.702,-45.7284\"/>\n",
       "</g>\n",
       "<!-- Covarites -->\n",
       "<g id=\"node3\" class=\"node\">\n",
       "<title>Covarites</title>\n",
       "<ellipse fill=\"none\" stroke=\"#000000\" cx=\"138.6967\" cy=\"-90\" rx=\"45.4919\" ry=\"18\"/>\n",
       "<text text-anchor=\"middle\" x=\"138.6967\" y=\"-86.3\" font-family=\"Times,serif\" font-size=\"14.00\" fill=\"#000000\">Covarites</text>\n",
       "</g>\n",
       "<!-- Covarites&#45;&gt;Happiness -->\n",
       "<g id=\"edge2\" class=\"edge\">\n",
       "<title>Covarites&#45;&gt;Happiness</title>\n",
       "<path fill=\"none\" stroke=\"#000000\" d=\"M126.351,-72.5708C120.257,-63.9675 112.7827,-53.4156 106.0362,-43.8911\"/>\n",
       "<polygon fill=\"#000000\" stroke=\"#000000\" points=\"108.7417,-41.6554 100.1054,-35.5182 103.0295,-45.7016 108.7417,-41.6554\"/>\n",
       "</g>\n",
       "</g>\n",
       "</svg>\n"
      ],
      "text/plain": [
       "<graphviz.dot.Digraph at 0x7fb4dcbcdc70>"
      ]
     },
     "execution_count": 12,
     "metadata": {},
     "output_type": "execute_result"
    }
   ],
   "source": [
    "g = gr.Digraph()\n",
    "g.edge(\"Income\", \"Happiness\")\n",
    "g.edge(\"Covarites\", \"Happiness\")\n",
    "g"
   ]
  },
  {
   "cell_type": "markdown",
   "id": "b9300b05",
   "metadata": {},
   "source": [
    "#### No covariates regression result"
   ]
  },
  {
   "cell_type": "code",
   "execution_count": 13,
   "id": "89136188",
   "metadata": {},
   "outputs": [
    {
     "name": "stdout",
     "output_type": "stream",
     "text": [
      "                            OLS Regression Results                            \n",
      "==============================================================================\n",
      "Dep. Variable:              happiness   R-squared:                       0.000\n",
      "Model:                            OLS   Adj. R-squared:                  0.000\n",
      "Method:                 Least Squares   F-statistic:                     4.049\n",
      "Date:                Fri, 06 May 2022   Prob (F-statistic):             0.0442\n",
      "Time:                        00:12:26   Log-Likelihood:                 653.53\n",
      "No. Observations:                8405   AIC:                            -1303.\n",
      "Df Residuals:                    8403   BIC:                            -1289.\n",
      "Df Model:                           1                                         \n",
      "Covariance Type:            nonrobust                                         \n",
      "==============================================================================\n",
      "                 coef    std err          t      P>|t|      [0.025      0.975]\n",
      "------------------------------------------------------------------------------\n",
      "Intercept      0.8999      0.024     38.181      0.000       0.854       0.946\n",
      "logincome      0.0106      0.005      2.012      0.044       0.000       0.021\n",
      "==============================================================================\n",
      "Omnibus:                     6663.089   Durbin-Watson:                   2.009\n",
      "Prob(Omnibus):                  0.000   Jarque-Bera (JB):            90259.092\n",
      "Skew:                          -3.990   Prob(JB):                         0.00\n",
      "Kurtosis:                      16.930   Cond. No.                         45.3\n",
      "==============================================================================\n",
      "\n",
      "Notes:\n",
      "[1] Standard Errors assume that the covariance matrix of the errors is correctly specified.\n"
     ]
    }
   ],
   "source": [
    "result = smf.ols(formula = \"happiness ~ logincome\", data = data).fit()\n",
    "print(result.summary())"
   ]
  },
  {
   "cell_type": "markdown",
   "id": "d447f77d",
   "metadata": {},
   "source": [
    "#### the regression result with no covarites is in line with our basic knowledge"
   ]
  },
  {
   "cell_type": "markdown",
   "id": "357d0969",
   "metadata": {},
   "source": [
    "#### With covariates regression result"
   ]
  },
  {
   "cell_type": "code",
   "execution_count": 14,
   "id": "e0276a6f",
   "metadata": {},
   "outputs": [
    {
     "name": "stdout",
     "output_type": "stream",
     "text": [
      "                            OLS Regression Results                            \n",
      "==============================================================================\n",
      "Dep. Variable:              happiness   R-squared:                       0.040\n",
      "Model:                            OLS   Adj. R-squared:                  0.038\n",
      "Method:                 Least Squares   F-statistic:                     31.50\n",
      "Date:                Fri, 06 May 2022   Prob (F-statistic):           3.67e-66\n",
      "Time:                        00:12:26   Log-Likelihood:                 821.51\n",
      "No. Observations:                8405   AIC:                            -1619.\n",
      "Df Residuals:                    8393   BIC:                            -1535.\n",
      "Df Model:                          11                                         \n",
      "Covariance Type:            nonrobust                                         \n",
      "==============================================================================\n",
      "                 coef    std err          t      P>|t|      [0.025      0.975]\n",
      "------------------------------------------------------------------------------\n",
      "Intercept      0.9303      0.031     30.048      0.000       0.870       0.991\n",
      "y2018         -0.0102      0.015     -0.699      0.484      -0.039       0.018\n",
      "y2016          0.0328      0.020      1.683      0.092      -0.005       0.071\n",
      "edu            0.0064      0.002      3.961      0.000       0.003       0.010\n",
      "age           -0.0011      0.000     -3.587      0.000      -0.002      -0.000\n",
      "gender        -0.0103      0.005     -2.022      0.043      -0.020      -0.000\n",
      "living        -0.0117      0.006     -2.103      0.036      -0.023      -0.001\n",
      "married        0.0495      0.006      8.283      0.000       0.038       0.061\n",
      "status         0.0289      0.003     11.512      0.000       0.024       0.034\n",
      "party         -0.0007      0.001     -0.944      0.345      -0.002       0.001\n",
      "health        -0.0169      0.002     -7.105      0.000      -0.022      -0.012\n",
      "logincome     -0.0054      0.006     -0.923      0.356      -0.017       0.006\n",
      "==============================================================================\n",
      "Omnibus:                     6358.859   Durbin-Watson:                   2.025\n",
      "Prob(Omnibus):                  0.000   Jarque-Bera (JB):            78415.777\n",
      "Skew:                          -3.765   Prob(JB):                         0.00\n",
      "Kurtosis:                      15.931   Cond. No.                         479.\n",
      "==============================================================================\n",
      "\n",
      "Notes:\n",
      "[1] Standard Errors assume that the covariance matrix of the errors is correctly specified.\n"
     ]
    }
   ],
   "source": [
    "result = smf.ols(formula = \"happiness ~ y2018 + y2016 + edu + age + gender + living + married + status + party + health + logincome\", data = data).fit()\n",
    "print(result.summary())"
   ]
  },
  {
   "cell_type": "markdown",
   "id": "3a72f988",
   "metadata": {},
   "source": [
    "#### We can see the regression result with covarites is a total mess, the coefficients of many varibles are no in line with our common knowledge, and the t-value of logincome is also not significant, so we will use some other models."
   ]
  },
  {
   "cell_type": "markdown",
   "id": "94556a89",
   "metadata": {},
   "source": [
    "#### b.Logisitcs model"
   ]
  },
  {
   "cell_type": "code",
   "execution_count": 15,
   "id": "41a54cc8",
   "metadata": {},
   "outputs": [
    {
     "data": {
      "image/svg+xml": [
       "<?xml version=\"1.0\" encoding=\"UTF-8\" standalone=\"no\"?>\n",
       "<!DOCTYPE svg PUBLIC \"-//W3C//DTD SVG 1.1//EN\"\n",
       " \"http://www.w3.org/Graphics/SVG/1.1/DTD/svg11.dtd\">\n",
       "<!-- Generated by graphviz version 2.40.1 (20161225.0304)\n",
       " -->\n",
       "<!-- Title: %3 Pages: 1 -->\n",
       "<svg width=\"549pt\" height=\"188pt\"\n",
       " viewBox=\"0.00 0.00 548.83 188.00\" xmlns=\"http://www.w3.org/2000/svg\" xmlns:xlink=\"http://www.w3.org/1999/xlink\">\n",
       "<g id=\"graph0\" class=\"graph\" transform=\"scale(1 1) rotate(0) translate(4 184)\">\n",
       "<title>%3</title>\n",
       "<polygon fill=\"#ffffff\" stroke=\"transparent\" points=\"-4,4 -4,-184 544.8345,-184 544.8345,4 -4,4\"/>\n",
       "<!-- In Year 2018 -->\n",
       "<g id=\"node1\" class=\"node\">\n",
       "<title>In Year 2018</title>\n",
       "<ellipse fill=\"none\" stroke=\"#000000\" cx=\"188.3397\" cy=\"-162\" rx=\"58.4896\" ry=\"18\"/>\n",
       "<text text-anchor=\"middle\" x=\"188.3397\" y=\"-158.3\" font-family=\"Times,serif\" font-size=\"14.00\" fill=\"#000000\">In Year 2018</text>\n",
       "</g>\n",
       "<!-- Personal Characteristics2018 -->\n",
       "<g id=\"node2\" class=\"node\">\n",
       "<title>Personal Characteristics2018</title>\n",
       "<ellipse fill=\"none\" stroke=\"#000000\" cx=\"116.3397\" cy=\"-90\" rx=\"116.1796\" ry=\"18\"/>\n",
       "<text text-anchor=\"middle\" x=\"116.3397\" y=\"-86.3\" font-family=\"Times,serif\" font-size=\"14.00\" fill=\"#000000\">Personal Characteristics2018</text>\n",
       "</g>\n",
       "<!-- In Year 2018&#45;&gt;Personal Characteristics2018 -->\n",
       "<g id=\"edge1\" class=\"edge\">\n",
       "<title>In Year 2018&#45;&gt;Personal Characteristics2018</title>\n",
       "<path fill=\"none\" stroke=\"#000000\" d=\"M170.9105,-144.5708C162.0887,-135.749 151.2181,-124.8784 141.5071,-115.1674\"/>\n",
       "<polygon fill=\"#000000\" stroke=\"#000000\" points=\"143.9062,-112.6168 134.3603,-108.0206 138.9565,-117.5666 143.9062,-112.6168\"/>\n",
       "</g>\n",
       "<!-- Happiness 2018 -->\n",
       "<g id=\"node3\" class=\"node\">\n",
       "<title>Happiness 2018</title>\n",
       "<ellipse fill=\"none\" stroke=\"#000000\" cx=\"222.3397\" cy=\"-18\" rx=\"68.7879\" ry=\"18\"/>\n",
       "<text text-anchor=\"middle\" x=\"222.3397\" y=\"-14.3\" font-family=\"Times,serif\" font-size=\"14.00\" fill=\"#000000\">Happiness 2018</text>\n",
       "</g>\n",
       "<!-- In Year 2018&#45;&gt;Happiness 2018 -->\n",
       "<g id=\"edge3\" class=\"edge\">\n",
       "<title>In Year 2018&#45;&gt;Happiness 2018</title>\n",
       "<path fill=\"none\" stroke=\"#000000\" d=\"M211.7175,-145.2964C222.9549,-135.794 235.276,-122.8346 241.3397,-108 249.5856,-87.8264 243.6402,-63.5844 236.2907,-45.345\"/>\n",
       "<polygon fill=\"#000000\" stroke=\"#000000\" points=\"239.4824,-43.9083 232.2662,-36.151 233.0699,-46.7153 239.4824,-43.9083\"/>\n",
       "</g>\n",
       "<!-- Personal Characteristics2018&#45;&gt;Happiness 2018 -->\n",
       "<g id=\"edge2\" class=\"edge\">\n",
       "<title>Personal Characteristics2018&#45;&gt;Happiness 2018</title>\n",
       "<path fill=\"none\" stroke=\"#000000\" d=\"M142.2702,-72.3868C156.3088,-62.8512 173.811,-50.9629 188.8684,-40.7352\"/>\n",
       "<polygon fill=\"#000000\" stroke=\"#000000\" points=\"191.1012,-43.4497 197.4068,-34.9355 187.168,-37.6591 191.1012,-43.4497\"/>\n",
       "</g>\n",
       "<!-- In Year 2016 -->\n",
       "<g id=\"node4\" class=\"node\">\n",
       "<title>In Year 2016</title>\n",
       "<ellipse fill=\"none\" stroke=\"#000000\" cx=\"482.3397\" cy=\"-162\" rx=\"58.4896\" ry=\"18\"/>\n",
       "<text text-anchor=\"middle\" x=\"482.3397\" y=\"-158.3\" font-family=\"Times,serif\" font-size=\"14.00\" fill=\"#000000\">In Year 2016</text>\n",
       "</g>\n",
       "<!-- Personal Characteristics2016 -->\n",
       "<g id=\"node5\" class=\"node\">\n",
       "<title>Personal Characteristics2016</title>\n",
       "<ellipse fill=\"none\" stroke=\"#000000\" cx=\"410.3397\" cy=\"-90\" rx=\"116.1796\" ry=\"18\"/>\n",
       "<text text-anchor=\"middle\" x=\"410.3397\" y=\"-86.3\" font-family=\"Times,serif\" font-size=\"14.00\" fill=\"#000000\">Personal Characteristics2016</text>\n",
       "</g>\n",
       "<!-- In Year 2016&#45;&gt;Personal Characteristics2016 -->\n",
       "<g id=\"edge4\" class=\"edge\">\n",
       "<title>In Year 2016&#45;&gt;Personal Characteristics2016</title>\n",
       "<path fill=\"none\" stroke=\"#000000\" d=\"M464.9105,-144.5708C456.0887,-135.749 445.2181,-124.8784 435.5071,-115.1674\"/>\n",
       "<polygon fill=\"#000000\" stroke=\"#000000\" points=\"437.9062,-112.6168 428.3603,-108.0206 432.9565,-117.5666 437.9062,-112.6168\"/>\n",
       "</g>\n",
       "<!-- Happiness 2016 -->\n",
       "<g id=\"node6\" class=\"node\">\n",
       "<title>Happiness 2016</title>\n",
       "<ellipse fill=\"none\" stroke=\"#000000\" cx=\"447.3397\" cy=\"-18\" rx=\"68.7879\" ry=\"18\"/>\n",
       "<text text-anchor=\"middle\" x=\"447.3397\" y=\"-14.3\" font-family=\"Times,serif\" font-size=\"14.00\" fill=\"#000000\">Happiness 2016</text>\n",
       "</g>\n",
       "<!-- In Year 2016&#45;&gt;Happiness 2016 -->\n",
       "<g id=\"edge6\" class=\"edge\">\n",
       "<title>In Year 2016&#45;&gt;Happiness 2016</title>\n",
       "<path fill=\"none\" stroke=\"#000000\" d=\"M505.7175,-145.2964C516.9549,-135.794 529.276,-122.8346 535.3397,-108 541.3935,-93.1895 543.1534,-85.9623 535.3397,-72 526.9306,-56.9739 512.4414,-45.621 497.6191,-37.3005\"/>\n",
       "<polygon fill=\"#000000\" stroke=\"#000000\" points=\"498.8854,-34.0141 488.3984,-32.506 495.656,-40.2247 498.8854,-34.0141\"/>\n",
       "</g>\n",
       "<!-- Personal Characteristics2016&#45;&gt;Happiness 2016 -->\n",
       "<g id=\"edge5\" class=\"edge\">\n",
       "<title>Personal Characteristics2016&#45;&gt;Happiness 2016</title>\n",
       "<path fill=\"none\" stroke=\"#000000\" d=\"M419.6763,-71.8314C423.871,-63.6688 428.9065,-53.87 433.5249,-44.8827\"/>\n",
       "<polygon fill=\"#000000\" stroke=\"#000000\" points=\"436.6764,-46.4075 438.1342,-35.9134 430.4504,-43.208 436.6764,-46.4075\"/>\n",
       "</g>\n",
       "</g>\n",
       "</svg>\n"
      ],
      "text/plain": [
       "<graphviz.dot.Digraph at 0x7fb4c8e53700>"
      ]
     },
     "execution_count": 15,
     "metadata": {},
     "output_type": "execute_result"
    }
   ],
   "source": [
    "g = gr.Digraph()\n",
    "\n",
    "g.edge(\"In Year 2018\", \"Personal Characteristics2018\")\n",
    "g.edge(\"Personal Characteristics2018\", \"Happiness 2018\")\n",
    "g.edge(\"In Year 2018\", \"Happiness 2018\")\n",
    "\n",
    "g.edge(\"In Year 2016\", \"Personal Characteristics2016\")\n",
    "g.edge(\"Personal Characteristics2016\", \"Happiness 2016\")\n",
    "g.edge(\"In Year 2016\", \"Happiness 2016\")\n",
    "g"
   ]
  },
  {
   "cell_type": "markdown",
   "id": "99700d58",
   "metadata": {},
   "source": [
    "#### We decide to add the variables step by step"
   ]
  },
  {
   "cell_type": "code",
   "execution_count": 16,
   "id": "38668393",
   "metadata": {},
   "outputs": [],
   "source": [
    "X = data[['y2018', 'y2016']]\n",
    "y = data['happiness']"
   ]
  },
  {
   "cell_type": "code",
   "execution_count": 17,
   "id": "c49a13de",
   "metadata": {},
   "outputs": [],
   "source": [
    "logit_model1=sm.Logit(y,X)"
   ]
  },
  {
   "cell_type": "code",
   "execution_count": 18,
   "id": "e2f7d89a",
   "metadata": {},
   "outputs": [
    {
     "name": "stdout",
     "output_type": "stream",
     "text": [
      "Optimization terminated successfully.\n",
      "         Current function value: 0.230834\n",
      "         Iterations 7\n",
      "                         Results: Logit\n",
      "================================================================\n",
      "Model:              Logit            Pseudo R-squared: -0.115   \n",
      "Dependent Variable: happiness        AIC:              3884.3167\n",
      "Date:               2022-05-06 00:12 BIC:              3898.3899\n",
      "No. Observations:   8405             Log-Likelihood:   -1940.2  \n",
      "Df Model:           1                LL-Null:          -1740.6  \n",
      "Df Residuals:       8403             LLR p-value:      1.0000   \n",
      "Converged:          1.0000           Scale:            1.0000   \n",
      "No. Iterations:     7.0000                                      \n",
      "------------------------------------------------------------------\n",
      "            Coef.    Std.Err.      z      P>|z|    [0.025   0.975]\n",
      "------------------------------------------------------------------\n",
      "y2018       2.8751     0.0505   56.9161   0.0000   2.7761   2.9741\n",
      "y2016       3.0744     0.3084    9.9688   0.0000   2.4699   3.6788\n",
      "================================================================\n",
      "\n"
     ]
    }
   ],
   "source": [
    "result1=logit_model1.fit()\n",
    "print(result1.summary2())"
   ]
  },
  {
   "cell_type": "code",
   "execution_count": 19,
   "id": "09743468",
   "metadata": {},
   "outputs": [],
   "source": [
    "X = data[['y2018', 'y2016', 'age', 'gender', 'living', 'status', 'married']]\n",
    "y = data['happiness']"
   ]
  },
  {
   "cell_type": "code",
   "execution_count": 20,
   "id": "1db00272",
   "metadata": {},
   "outputs": [],
   "source": [
    "logit_model2=sm.Logit(y,X)"
   ]
  },
  {
   "cell_type": "code",
   "execution_count": 21,
   "id": "1ee977f2",
   "metadata": {},
   "outputs": [
    {
     "name": "stdout",
     "output_type": "stream",
     "text": [
      "Optimization terminated successfully.\n",
      "         Current function value: 0.195688\n",
      "         Iterations 7\n",
      "                         Results: Logit\n",
      "=================================================================\n",
      "Model:              Logit            Pseudo R-squared: 0.055     \n",
      "Dependent Variable: happiness        AIC:              3303.5185 \n",
      "Date:               2022-05-06 00:12 BIC:              3352.7746 \n",
      "No. Observations:   8405             Log-Likelihood:   -1644.8   \n",
      "Df Model:           6                LL-Null:          -1740.6   \n",
      "Df Residuals:       8398             LLR p-value:      1.0717e-38\n",
      "Converged:          1.0000           Scale:            1.0000    \n",
      "No. Iterations:     7.0000                                       \n",
      "-------------------------------------------------------------------\n",
      "            Coef.    Std.Err.      z      P>|z|     [0.025   0.975]\n",
      "-------------------------------------------------------------------\n",
      "y2018       0.7647     0.1349    5.6696   0.0000    0.5003   1.0290\n",
      "y2016       1.6386     0.3356    4.8821   0.0000    0.9807   2.2964\n",
      "age        -0.0050     0.0039   -1.2857   0.1985   -0.0126   0.0026\n",
      "gender     -0.1034     0.0999   -1.0347   0.3008   -0.2993   0.0925\n",
      "living     -0.1251     0.1010   -1.2384   0.2156   -0.3232   0.0729\n",
      "status      0.7454     0.0471   15.8216   0.0000    0.6530   0.8377\n",
      "married     0.8384     0.1066    7.8662   0.0000    0.6295   1.0473\n",
      "=================================================================\n",
      "\n"
     ]
    }
   ],
   "source": [
    "result2=logit_model2.fit()\n",
    "print(result2.summary2())"
   ]
  },
  {
   "cell_type": "code",
   "execution_count": 22,
   "id": "cbe10e3a",
   "metadata": {},
   "outputs": [],
   "source": [
    "X = data[['y2018', 'y2016', 'age', 'gender', 'living', 'status', 'married', 'edu','health']]\n",
    "y = data['happiness']"
   ]
  },
  {
   "cell_type": "code",
   "execution_count": 23,
   "id": "bd75e66d",
   "metadata": {},
   "outputs": [],
   "source": [
    "logit_model3=sm.Logit(y,X)"
   ]
  },
  {
   "cell_type": "code",
   "execution_count": 24,
   "id": "73644a7c",
   "metadata": {},
   "outputs": [
    {
     "name": "stdout",
     "output_type": "stream",
     "text": [
      "Optimization terminated successfully.\n",
      "         Current function value: 0.190716\n",
      "         Iterations 8\n",
      "                         Results: Logit\n",
      "=================================================================\n",
      "Model:              Logit            Pseudo R-squared: 0.079     \n",
      "Dependent Variable: happiness        AIC:              3223.9375 \n",
      "Date:               2022-05-06 00:12 BIC:              3287.2667 \n",
      "No. Observations:   8405             Log-Likelihood:   -1603.0   \n",
      "Df Model:           8                LL-Null:          -1740.6   \n",
      "Df Residuals:       8396             LLR p-value:      7.1959e-55\n",
      "Converged:          1.0000           Scale:            1.0000    \n",
      "No. Iterations:     8.0000                                       \n",
      "-------------------------------------------------------------------\n",
      "           Coef.    Std.Err.      z      P>|z|     [0.025    0.975]\n",
      "-------------------------------------------------------------------\n",
      "y2018      0.2336     0.1765    1.3233   0.1857   -0.1124    0.5795\n",
      "y2016      1.5503     0.3442    4.5043   0.0000    0.8757    2.2249\n",
      "age        0.0066     0.0045    1.4641   0.1432   -0.0023    0.0155\n",
      "gender    -0.1567     0.1021   -1.5345   0.1249   -0.3569    0.0434\n",
      "living     0.0551     0.1076    0.5117   0.6088   -0.1558    0.2659\n",
      "status     0.6272     0.0491   12.7624   0.0000    0.5309    0.7235\n",
      "married    0.8422     0.1092    7.7091   0.0000    0.6281    1.0563\n",
      "edu        0.2268     0.0271    8.3552   0.0000    0.1736    0.2800\n",
      "health    -0.2437     0.0452   -5.3941   0.0000   -0.3322   -0.1551\n",
      "=================================================================\n",
      "\n"
     ]
    }
   ],
   "source": [
    "result3=logit_model3.fit()\n",
    "print(result3.summary2())"
   ]
  },
  {
   "cell_type": "code",
   "execution_count": 25,
   "id": "445e8a78",
   "metadata": {},
   "outputs": [],
   "source": [
    "X = data[['y2018', 'y2016', 'age', 'gender', 'living', 'status', 'married', 'edu', 'health', 'logincome']]\n",
    "y = data['happiness']"
   ]
  },
  {
   "cell_type": "code",
   "execution_count": 26,
   "id": "a9fda175",
   "metadata": {},
   "outputs": [],
   "source": [
    "logit_model4=sm.Logit(y,X)"
   ]
  },
  {
   "cell_type": "code",
   "execution_count": 27,
   "id": "4bca0c65",
   "metadata": {},
   "outputs": [
    {
     "name": "stdout",
     "output_type": "stream",
     "text": [
      "Optimization terminated successfully.\n",
      "         Current function value: 0.189835\n",
      "         Iterations 8\n",
      "                         Results: Logit\n",
      "=================================================================\n",
      "Model:              Logit            Pseudo R-squared: 0.083     \n",
      "Dependent Variable: happiness        AIC:              3211.1289 \n",
      "Date:               2022-05-06 00:12 BIC:              3281.4947 \n",
      "No. Observations:   8405             Log-Likelihood:   -1595.6   \n",
      "Df Model:           9                LL-Null:          -1740.6   \n",
      "Df Residuals:       8395             LLR p-value:      3.1917e-57\n",
      "Converged:          1.0000           Scale:            1.0000    \n",
      "No. Iterations:     8.0000                                       \n",
      "------------------------------------------------------------------\n",
      "               Coef.   Std.Err.     z     P>|z|    [0.025   0.975]\n",
      "------------------------------------------------------------------\n",
      "y2018         -0.2537    0.2354  -1.0779  0.2811  -0.7150   0.2076\n",
      "y2016          0.8894    0.3924   2.2667  0.0234   0.1203   1.6585\n",
      "age            0.0005    0.0047   0.1023  0.9186  -0.0088   0.0098\n",
      "gender        -0.2658    0.1070  -2.4839  0.0130  -0.4755  -0.0561\n",
      "living        -0.0339    0.1107  -0.3065  0.7592  -0.2508   0.1830\n",
      "status         0.5913    0.0502  11.7785  0.0000   0.4929   0.6896\n",
      "married        0.7953    0.1110   7.1684  0.0000   0.5779   1.0128\n",
      "edu            0.1634    0.0317   5.1571  0.0000   0.1013   0.2255\n",
      "health        -0.2773    0.0462  -6.0039  0.0000  -0.3678  -0.1868\n",
      "logincome      0.2941    0.0772   3.8070  0.0001   0.1427   0.4454\n",
      "=================================================================\n",
      "\n"
     ]
    }
   ],
   "source": [
    "result4=logit_model4.fit()\n",
    "print(result4.summary2())"
   ]
  },
  {
   "cell_type": "code",
   "execution_count": 28,
   "id": "395b6df6",
   "metadata": {},
   "outputs": [
    {
     "name": "stdout",
     "output_type": "stream",
     "text": [
      "\n",
      "===============================================================\n",
      "          happiness I happiness II happiness III happiness IIII\n",
      "---------------------------------------------------------------\n",
      "age                   -0.0050      0.0066        0.0005        \n",
      "                      (0.0039)     (0.0045)      (0.0047)      \n",
      "edu                                0.2268***     0.1634***     \n",
      "                                   (0.0271)      (0.0317)      \n",
      "gender                -0.1034      -0.1567       -0.2658**     \n",
      "                      (0.0999)     (0.1021)      (0.1070)      \n",
      "health                             -0.2437***    -0.2773***    \n",
      "                                   (0.0452)      (0.0462)      \n",
      "living                -0.1251      0.0551        -0.0339       \n",
      "                      (0.1010)     (0.1076)      (0.1107)      \n",
      "logincome                                        0.2941***     \n",
      "                                                 (0.0772)      \n",
      "married               0.8384***    0.8422***     0.7953***     \n",
      "                      (0.1066)     (0.1092)      (0.1110)      \n",
      "status                0.7454***    0.6272***     0.5913***     \n",
      "                      (0.0471)     (0.0491)      (0.0502)      \n",
      "y2016     3.0744***   1.6386***    1.5503***     0.8894**      \n",
      "          (0.3084)    (0.3356)     (0.3442)      (0.3924)      \n",
      "y2018     2.8751***   0.7647***    0.2336        -0.2537       \n",
      "          (0.0505)    (0.1349)     (0.1765)      (0.2354)      \n",
      "===============================================================\n",
      "Standard errors in parentheses.\n",
      "* p<.1, ** p<.05, ***p<.01\n"
     ]
    }
   ],
   "source": [
    "from statsmodels.iolib.summary2 import summary_col\n",
    "dfoutput = summary_col([result1,result2,result3,result4],stars=True)\n",
    "print(dfoutput)"
   ]
  },
  {
   "cell_type": "markdown",
   "id": "a74b2e07",
   "metadata": {},
   "source": [
    "#### So as you can see, the logistics model performacne is significantly better than the OLS model, so in the following we will use the logit result to draw our conclusion"
   ]
  },
  {
   "cell_type": "markdown",
   "id": "84274ec4",
   "metadata": {},
   "source": [
    "#### Residual plot"
   ]
  },
  {
   "cell_type": "code",
   "execution_count": 29,
   "id": "f6c1c000",
   "metadata": {},
   "outputs": [
    {
     "data": {
      "image/png": "[encoded data removed]",
      "text/plain": [
       "<Figure size 432x432 with 1 Axes>"
      ]
     },
     "metadata": {
      "needs_background": "light"
     },
     "output_type": "display_data"
    }
   ],
   "source": [
    "g1 = sns.residplot(x='income', y='happiness', order=2,\n",
    "   data=data, scatter_kws={'color': 'r',\n",
    "   'alpha': 0.5});\n",
    "plt.show();"
   ]
  },
  {
   "cell_type": "markdown",
   "id": "03b1f955",
   "metadata": {},
   "source": [
    "#### c.Instrument variables"
   ]
  },
  {
   "cell_type": "markdown",
   "id": "9227690a",
   "metadata": {},
   "source": [
    "#### From the CFPS database, we find the varible called \"exedu\" that may have the ability to serve as the IV of education, and we want to see whether it can improve the OLS result."
   ]
  },
  {
   "cell_type": "code",
   "execution_count": 30,
   "id": "9e21a82e",
   "metadata": {},
   "outputs": [
    {
     "data": {
      "image/svg+xml": [
       "<?xml version=\"1.0\" encoding=\"UTF-8\" standalone=\"no\"?>\n",
       "<!DOCTYPE svg PUBLIC \"-//W3C//DTD SVG 1.1//EN\"\n",
       " \"http://www.w3.org/Graphics/SVG/1.1/DTD/svg11.dtd\">\n",
       "<!-- Generated by graphviz version 2.40.1 (20161225.0304)\n",
       " -->\n",
       "<!-- Title: %3 Pages: 1 -->\n",
       "<svg width=\"127pt\" height=\"188pt\"\n",
       " viewBox=\"0.00 0.00 127.44 188.00\" xmlns=\"http://www.w3.org/2000/svg\" xmlns:xlink=\"http://www.w3.org/1999/xlink\">\n",
       "<g id=\"graph0\" class=\"graph\" transform=\"scale(1 1) rotate(0) translate(4 184)\">\n",
       "<title>%3</title>\n",
       "<polygon fill=\"#ffffff\" stroke=\"transparent\" points=\"-4,4 -4,-184 123.4423,-184 123.4423,4 -4,4\"/>\n",
       "<!-- Education -->\n",
       "<g id=\"node1\" class=\"node\">\n",
       "<title>Education</title>\n",
       "<ellipse fill=\"none\" stroke=\"#000000\" cx=\"70.6967\" cy=\"-162\" rx=\"47.3916\" ry=\"18\"/>\n",
       "<text text-anchor=\"middle\" x=\"70.6967\" y=\"-158.3\" font-family=\"Times,serif\" font-size=\"14.00\" fill=\"#000000\">Education</text>\n",
       "</g>\n",
       "<!-- Income -->\n",
       "<g id=\"node2\" class=\"node\">\n",
       "<title>Income</title>\n",
       "<ellipse fill=\"none\" stroke=\"#000000\" cx=\"37.6967\" cy=\"-90\" rx=\"37.8943\" ry=\"18\"/>\n",
       "<text text-anchor=\"middle\" x=\"37.6967\" y=\"-86.3\" font-family=\"Times,serif\" font-size=\"14.00\" fill=\"#000000\">Income</text>\n",
       "</g>\n",
       "<!-- Education&#45;&gt;Income -->\n",
       "<g id=\"edge1\" class=\"edge\">\n",
       "<title>Education&#45;&gt;Income</title>\n",
       "<path fill=\"none\" stroke=\"#000000\" d=\"M62.5393,-144.2022C58.7429,-135.9192 54.1469,-125.8915 49.9455,-116.7248\"/>\n",
       "<polygon fill=\"#000000\" stroke=\"#000000\" points=\"53.1085,-115.2254 45.7601,-107.593 46.745,-118.142 53.1085,-115.2254\"/>\n",
       "</g>\n",
       "<!-- Happiness -->\n",
       "<g id=\"node3\" class=\"node\">\n",
       "<title>Happiness</title>\n",
       "<ellipse fill=\"none\" stroke=\"#000000\" cx=\"70.6967\" cy=\"-18\" rx=\"48.9926\" ry=\"18\"/>\n",
       "<text text-anchor=\"middle\" x=\"70.6967\" y=\"-14.3\" font-family=\"Times,serif\" font-size=\"14.00\" fill=\"#000000\">Happiness</text>\n",
       "</g>\n",
       "<!-- Education&#45;&gt;Happiness -->\n",
       "<g id=\"edge2\" class=\"edge\">\n",
       "<title>Education&#45;&gt;Happiness</title>\n",
       "<path fill=\"none\" stroke=\"#000000\" d=\"M76.6665,-143.7319C79.7374,-133.3756 83.153,-120.105 84.6967,-108 86.7206,-92.1285 86.7206,-87.8715 84.6967,-72 83.6113,-63.4887 81.6004,-54.4011 79.4347,-46.1555\"/>\n",
       "<polygon fill=\"#000000\" stroke=\"#000000\" points=\"82.733,-44.9542 76.6665,-36.2681 75.9922,-46.8414 82.733,-44.9542\"/>\n",
       "</g>\n",
       "<!-- Income&#45;&gt;Happiness -->\n",
       "<g id=\"edge3\" class=\"edge\">\n",
       "<title>Income&#45;&gt;Happiness</title>\n",
       "<path fill=\"none\" stroke=\"#000000\" d=\"M45.854,-72.2022C49.5824,-64.0675 54.082,-54.2501 58.2217,-45.2181\"/>\n",
       "<polygon fill=\"#000000\" stroke=\"#000000\" points=\"61.5339,-46.3915 62.5188,-35.8425 55.1705,-43.4749 61.5339,-46.3915\"/>\n",
       "</g>\n",
       "</g>\n",
       "</svg>\n"
      ],
      "text/plain": [
       "<graphviz.dot.Digraph at 0x7fb4b82030a0>"
      ]
     },
     "execution_count": 30,
     "metadata": {},
     "output_type": "execute_result"
    }
   ],
   "source": [
    "g = gr.Digraph()\n",
    "g.edge(\"Education\", \"Income\")\n",
    "g.edge(\"Education\", \"Happiness\")\n",
    "g.edge(\"Income\", \"Happiness\")\n",
    "g"
   ]
  },
  {
   "cell_type": "code",
   "execution_count": 31,
   "id": "e2e1a810",
   "metadata": {},
   "outputs": [
    {
     "name": "stdout",
     "output_type": "stream",
     "text": [
      "                            OLS Regression Results                            \n",
      "==============================================================================\n",
      "Dep. Variable:                    edu   R-squared:                       0.000\n",
      "Model:                            OLS   Adj. R-squared:                  0.000\n",
      "Method:                 Least Squares   F-statistic:                     2.590\n",
      "Date:                Fri, 06 May 2022   Prob (F-statistic):              0.108\n",
      "Time:                        00:12:27   Log-Likelihood:                -16972.\n",
      "No. Observations:                8405   AIC:                         3.395e+04\n",
      "Df Residuals:                    8403   BIC:                         3.396e+04\n",
      "Df Model:                           1                                         \n",
      "Covariance Type:            nonrobust                                         \n",
      "==============================================================================\n",
      "                 coef    std err          t      P>|t|      [0.025      0.975]\n",
      "------------------------------------------------------------------------------\n",
      "Intercept      4.5750      0.028    166.240      0.000       4.521       4.629\n",
      "exedu         -0.0058      0.004     -1.609      0.108      -0.013       0.001\n",
      "==============================================================================\n",
      "Omnibus:                      239.839   Durbin-Watson:                   1.552\n",
      "Prob(Omnibus):                  0.000   Jarque-Bera (JB):              362.875\n",
      "Skew:                          -0.288   Prob(JB):                     1.60e-79\n",
      "Kurtosis:                       3.839   Cond. No.                         10.6\n",
      "==============================================================================\n",
      "\n",
      "Notes:\n",
      "[1] Standard Errors assume that the covariance matrix of the errors is correctly specified.\n"
     ]
    }
   ],
   "source": [
    "result = smf.ols(formula = \"edu ~ exedu\", data = data).fit()\n",
    "print(result.summary())\n",
    "\n",
    "data['edu_fitted'] = result.predict()  #D-hat"
   ]
  },
  {
   "cell_type": "code",
   "execution_count": 32,
   "id": "3d24c9a3",
   "metadata": {},
   "outputs": [
    {
     "name": "stdout",
     "output_type": "stream",
     "text": [
      "                            OLS Regression Results                            \n",
      "==============================================================================\n",
      "Dep. Variable:              happiness   R-squared:                       0.038\n",
      "Model:                            OLS   Adj. R-squared:                  0.037\n",
      "Method:                 Least Squares   F-statistic:                     30.39\n",
      "Date:                Fri, 06 May 2022   Prob (F-statistic):           1.12e-63\n",
      "Time:                        00:12:27   Log-Likelihood:                 815.62\n",
      "No. Observations:                8405   AIC:                            -1607.\n",
      "Df Residuals:                    8393   BIC:                            -1523.\n",
      "Df Model:                          11                                         \n",
      "Covariance Type:            nonrobust                                         \n",
      "==============================================================================\n",
      "                 coef    std err          t      P>|t|      [0.025      0.975]\n",
      "------------------------------------------------------------------------------\n",
      "Intercept      1.9023      0.482      3.944      0.000       0.957       2.848\n",
      "edu_fitted    -0.2131      0.108     -1.980      0.048      -0.424      -0.002\n",
      "age           -0.0011      0.000     -3.362      0.001      -0.002      -0.000\n",
      "gender        -0.0123      0.005     -2.440      0.015      -0.022      -0.002\n",
      "living        -0.0190      0.005     -3.561      0.000      -0.029      -0.009\n",
      "married        0.0529      0.006      8.279      0.000       0.040       0.065\n",
      "status         0.0293      0.003     11.663      0.000       0.024       0.034\n",
      "party         -0.0012      0.001     -1.765      0.078      -0.003       0.000\n",
      "health        -0.0165      0.002     -6.947      0.000      -0.021      -0.012\n",
      "y2018          0.0093      0.015      0.610      0.542      -0.020       0.039\n",
      "y2016          0.0276      0.019      1.415      0.157      -0.011       0.066\n",
      "logincome      0.0003      0.006      0.048      0.962      -0.011       0.012\n",
      "==============================================================================\n",
      "Omnibus:                     6370.656   Durbin-Watson:                   2.021\n",
      "Prob(Omnibus):                  0.000   Jarque-Bera (JB):            78868.245\n",
      "Skew:                          -3.773   Prob(JB):                         0.00\n",
      "Kurtosis:                      15.971   Cond. No.                     7.34e+03\n",
      "==============================================================================\n",
      "\n",
      "Notes:\n",
      "[1] Standard Errors assume that the covariance matrix of the errors is correctly specified.\n",
      "[2] The condition number is large, 7.34e+03. This might indicate that there are\n",
      "strong multicollinearity or other numerical problems.\n"
     ]
    }
   ],
   "source": [
    "result = smf.ols(formula = \"happiness ~ edu_fitted + age + gender + living + married + status + party + health + y2018 + y2016 + logincome\", data=data).fit()\n",
    "print(result.summary())"
   ]
  },
  {
   "cell_type": "markdown",
   "id": "9159624b",
   "metadata": {},
   "source": [
    "#### Base on the results of first-stage regression, we found that the F-value of the regression is 2.78 which is below 10, indicating the selected instrument variable didn't pass the test. Thus, the results of IV model is not reliable to explain the relationship between happiness and the selected influening factors."
   ]
  },
  {
   "cell_type": "markdown",
   "id": "c2ebe97d",
   "metadata": {},
   "source": [
    "#### d. Improved OLS：By adding interaction term"
   ]
  },
  {
   "cell_type": "code",
   "execution_count": 33,
   "id": "a6ce4de0",
   "metadata": {},
   "outputs": [
    {
     "name": "stdout",
     "output_type": "stream",
     "text": [
      "                            OLS Regression Results                            \n",
      "==============================================================================\n",
      "Dep. Variable:              happiness   R-squared:                       0.040\n",
      "Model:                            OLS   Adj. R-squared:                  0.039\n",
      "Method:                 Least Squares   F-statistic:                     29.24\n",
      "Date:                Fri, 06 May 2022   Prob (F-statistic):           2.66e-66\n",
      "Time:                        00:12:27   Log-Likelihood:                 823.64\n",
      "No. Observations:                8405   AIC:                            -1621.\n",
      "Df Residuals:                    8392   BIC:                            -1530.\n",
      "Df Model:                          12                                         \n",
      "Covariance Type:            nonrobust                                         \n",
      "=================================================================================\n",
      "                    coef    std err          t      P>|t|      [0.025      0.975]\n",
      "---------------------------------------------------------------------------------\n",
      "Intercept         1.0255      0.056     18.475      0.000       0.917       1.134\n",
      "edu              -0.0167      0.011     -1.482      0.138      -0.039       0.005\n",
      "age              -0.0012      0.000     -3.919      0.000      -0.002      -0.001\n",
      "gender           -0.0100      0.005     -1.972      0.049      -0.020   -5.89e-05\n",
      "living           -0.0107      0.006     -1.917      0.055      -0.022       0.000\n",
      "married           0.0506      0.006      8.432      0.000       0.039       0.062\n",
      "status            0.0288      0.003     11.467      0.000       0.024       0.034\n",
      "party            -0.0005      0.001     -0.698      0.485      -0.002       0.001\n",
      "health           -0.0172      0.002     -7.210      0.000      -0.022      -0.012\n",
      "y2018            -0.0089      0.015     -0.609      0.542      -0.038       0.020\n",
      "y2016             0.0338      0.020      1.735      0.083      -0.004       0.072\n",
      "logincome        -0.0270      0.012     -2.253      0.024      -0.051      -0.004\n",
      "edu:logincome     0.0052      0.003      2.066      0.039       0.000       0.010\n",
      "==============================================================================\n",
      "Omnibus:                     6355.300   Durbin-Watson:                   2.024\n",
      "Prob(Omnibus):                  0.000   Jarque-Bera (JB):            78281.420\n",
      "Skew:                          -3.762   Prob(JB):                         0.00\n",
      "Kurtosis:                      15.919   Cond. No.                         983.\n",
      "==============================================================================\n",
      "\n",
      "Notes:\n",
      "[1] Standard Errors assume that the covariance matrix of the errors is correctly specified.\n"
     ]
    }
   ],
   "source": [
    "result = smf.ols(formula = \"happiness ~ edu + age + gender + living + married + status + party + health + y2018 + y2016 + edu*logincome + logincome\", data=data).fit()\n",
    "print(result.summary())"
   ]
  },
  {
   "cell_type": "markdown",
   "id": "039b2367",
   "metadata": {},
   "source": [
    "#### After adding the interaction between education and income, we can find that the regression result of OLS is significantly better, and there is a negative relationship between income and happiness"
   ]
  },
  {
   "cell_type": "code",
   "execution_count": 34,
   "id": "60adc4b1",
   "metadata": {},
   "outputs": [
    {
     "name": "stdout",
     "output_type": "stream",
     "text": [
      "                            OLS Regression Results                            \n",
      "==============================================================================\n",
      "Dep. Variable:              happiness   R-squared:                       0.040\n",
      "Model:                            OLS   Adj. R-squared:                  0.038\n",
      "Method:                 Least Squares   F-statistic:                     28.91\n",
      "Date:                Fri, 06 May 2022   Prob (F-statistic):           1.67e-65\n",
      "Time:                        00:12:27   Log-Likelihood:                 821.75\n",
      "No. Observations:                8405   AIC:                            -1618.\n",
      "Df Residuals:                    8392   BIC:                            -1526.\n",
      "Df Model:                          12                                         \n",
      "Covariance Type:            nonrobust                                         \n",
      "====================================================================================\n",
      "                       coef    std err          t      P>|t|      [0.025      0.975]\n",
      "------------------------------------------------------------------------------------\n",
      "Intercept            0.8918      0.063     14.103      0.000       0.768       1.016\n",
      "edu                  0.0064      0.002      3.969      0.000       0.003       0.010\n",
      "age                 -0.0011      0.000     -3.646      0.000      -0.002      -0.001\n",
      "gender              -0.0102      0.005     -2.016      0.044      -0.020      -0.000\n",
      "living              -0.0118      0.006     -2.119      0.034      -0.023      -0.001\n",
      "married              0.0497      0.006      8.310      0.000       0.038       0.061\n",
      "status               0.0289      0.003     11.507      0.000       0.024       0.034\n",
      "party               -0.0007      0.001     -0.945      0.344      -0.002       0.001\n",
      "health              -0.0034      0.019     -0.176      0.860      -0.041       0.035\n",
      "y2018               -0.0095      0.015     -0.649      0.516      -0.038       0.019\n",
      "y2016                0.0337      0.020      1.723      0.085      -0.005       0.072\n",
      "logincome            0.0033      0.014      0.238      0.812      -0.024       0.030\n",
      "health:logincome    -0.0031      0.004     -0.699      0.485      -0.012       0.006\n",
      "==============================================================================\n",
      "Omnibus:                     6358.911   Durbin-Watson:                   2.025\n",
      "Prob(Omnibus):                  0.000   Jarque-Bera (JB):            78419.082\n",
      "Skew:                          -3.765   Prob(JB):                         0.00\n",
      "Kurtosis:                      15.932   Cond. No.                     1.05e+03\n",
      "==============================================================================\n",
      "\n",
      "Notes:\n",
      "[1] Standard Errors assume that the covariance matrix of the errors is correctly specified.\n",
      "[2] The condition number is large, 1.05e+03. This might indicate that there are\n",
      "strong multicollinearity or other numerical problems.\n"
     ]
    }
   ],
   "source": [
    "result = smf.ols(formula = \"happiness ~ edu + age + gender + living + married + status + party + health + y2018 + y2016 + health*logincome + logincome\", data=data).fit()\n",
    "print(result.summary())"
   ]
  },
  {
   "cell_type": "markdown",
   "id": "f64ef9f0",
   "metadata": {},
   "source": [
    "#### After adding the interaction between health and income, we can find that it is not very helpful for us to improve the OLS model\n"
   ]
  },
  {
   "cell_type": "markdown",
   "id": "8c13f1ed",
   "metadata": {},
   "source": [
    "### 4.Findings"
   ]
  },
  {
   "cell_type": "markdown",
   "id": "4b660920",
   "metadata": {},
   "source": [
    "#### a. Main findings"
   ]
  },
  {
   "cell_type": "markdown",
   "id": "bb7cde13",
   "metadata": {},
   "source": [
    "#### The improved OLS model and logit model show different results. The results of the model with the interaction of education and income show that there is a negative relationship between income and happiness. China fell into the happiness paradox during the period of economic slowdown, while the results of Logit model are on the contrary, which is the most important finding of our study."
   ]
  },
  {
   "cell_type": "markdown",
   "id": "0c1604b7",
   "metadata": {},
   "source": [
    "#### But according to the coefficient of covariates in the model, we think the result of logit model is more convinced(the OLS with interaction term shows that health has the negative relationship with happiness, which is beyond our expectations.)"
   ]
  },
  {
   "cell_type": "markdown",
   "id": "55b7966c",
   "metadata": {},
   "source": [
    "#### b. Comparison with different models"
   ]
  },
  {
   "cell_type": "markdown",
   "id": "20d4a759",
   "metadata": {},
   "source": [
    "#### In this study, we tried four methods: 1 OLS model with and without covariates 2.Logistics model 3.Instrument varible 4.Interaction term. The results of the first and third models are not statistically significant, so we do not analyze them, while the second and fourth models show diametrically opposite conclusions and are statistically significant"
   ]
  },
  {
   "cell_type": "markdown",
   "id": "4e287037",
   "metadata": {},
   "source": [
    "### 5.Conclusion"
   ]
  },
  {
   "cell_type": "markdown",
   "id": "48e789d7",
   "metadata": {},
   "source": [
    "#### a. Learnings of the project"
   ]
  },
  {
   "cell_type": "markdown",
   "id": "c8bcbaeb",
   "metadata": {},
   "source": [
    "#### Based on the result of logit model, China doesn't fall into the happniess paradox in such a special period.However,Since the reform and opening up, China has maintained a GDP growth rate of 10%, which has attracted the attention of the world. However, since 2012, China's GDP growth has begun to slow down. Scholars often attribute this situation to China's gradual entry into the aging era and no longer enjoying the demographic dividend. China has entered the dilemma faced by Japan's economic development in the 1990s."
   ]
  },
  {
   "cell_type": "markdown",
   "id": "cdf01113",
   "metadata": {},
   "source": [
    "#### In this context, the Chinese government is thinking about how to transform the growth of GDP into the happy life of the people, rather than blindly pursuing economic development and ignoring people's life. The world is currently experiencing the fourth industrial revolution. The progress of AI technology has further connected people all over the world, and people's lives are changing with each passing day. In this case, a point of view put forward in this paper, Firstly, income can indeed improve people's well-being, which is the same as the traditional view. The biggest innovation of this paper is that it is found that education level and health status can improve the improvement of income to well-being. This conclusion is particularly important in the domestic economic background of economic slowdown. People's well-being is difficult to be improved through the rapid growth of economy. We can strengthen infrastructure investment, Increase investment in medical education, so that people's income can have a greater impact on happiness."
   ]
  },
  {
   "cell_type": "markdown",
   "id": "3110f653",
   "metadata": {},
   "source": [
    "#### b. Possible improvement in the future"
   ]
  },
  {
   "cell_type": "markdown",
   "id": "5c0a0fa4",
   "metadata": {},
   "source": [
    "#### Of course, there are still some endogenous problems that have not been solved in this paper. Measuring people's happiness through objective indicators is a very challenging work. We are cautious and open to the research results, hoping to promote more in-depth research"
   ]
  },
  {
   "cell_type": "markdown",
   "id": "0d005691",
   "metadata": {},
   "source": [
    "### Reference"
   ]
  },
  {
   "cell_type": "markdown",
   "id": "80cdae30",
   "metadata": {},
   "source": [
    "#### [1]Easterlin R A . Nations and Households in Economic Growth || Does Economic Growth Improve the Human Lot? Some Empirical Evidence[J]. Elsevier Monographs, 1974:89-125."
   ]
  },
  {
   "cell_type": "markdown",
   "id": "a780d12e",
   "metadata": {},
   "source": [
    "#### [2]Easterlin R A . Will raising the incomes of all increase the happiness of all?[J]. Journal of Economic Behavior & Organization, 1995, 27(1):35-47."
   ]
  },
  {
   "cell_type": "code",
   "execution_count": null,
   "id": "7e7a1e8c",
   "metadata": {},
   "outputs": [],
   "source": []
  }
 ],
 "metadata": {
  "kernelspec": {
   "display_name": "Python 3 (ipykernel)",
   "language": "python",
   "name": "python3"
  },
  "language_info": {
   "codemirror_mode": {
    "name": "ipython",
    "version": 3
   },
   "file_extension": ".py",
   "mimetype": "text/x-python",
   "name": "python",
   "nbconvert_exporter": "python",
   "pygments_lexer": "ipython3",
   "version": "3.9.12"
  }
 },
 "nbformat": 4,
 "nbformat_minor": 5
}
