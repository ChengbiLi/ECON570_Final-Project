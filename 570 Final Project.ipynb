{
 "cells": [
  {
   "cell_type": "markdown",
   "id": "36dab7a2",
   "metadata": {},
   "source": [
    "## ECON570 Final Project"
   ]
  },
  {
   "cell_type": "markdown",
   "id": "9aecd480",
   "metadata": {},
   "source": [
    "### Research on the happiness level of Chinese residents in the period of economic slowdown——Empirical analysis based on CFPS database"
   ]
  },
  {
   "cell_type": "markdown",
   "id": "e160fbc3",
   "metadata": {},
   "source": [
    "### Group member: Chengbi Li, Liejiang Zhu, Shuyu Ouyang"
   ]
  },
  {
   "cell_type": "markdown",
   "id": "f1722494",
   "metadata": {},
   "source": [
    "### 1.Introduction"
   ]
  },
  {
   "cell_type": "markdown",
   "id": "df4b9f8d",
   "metadata": {},
   "source": [
    "#### a. Backgroud and main purpose of the project"
   ]
  },
  {
   "cell_type": "markdown",
   "id": "4f95e768",
   "metadata": {},
   "source": [
    "#### Since the reform and opening, China has experienced a long economic development time. China’s annual growth rate reached 9.78% between 1978 and 2011 averagely, considered as a miracle in the history of economic development. It is commonly believed that the two reasons for that high growth are demographic dividend and globalization. Demographic dividend brings China lots of labors to motivate the growth on the supply side, while globalization stimulates the growth on the demand side. Both effects propelled China’s economy a 32-year prosperous age."
   ]
  },
  {
   "cell_type": "markdown",
   "id": "e43ed31d",
   "metadata": {},
   "source": [
    "#### However, China’s annual GDP growth rate has desended since 2012. Its annual GDP growth rate is 7.7%, 7.4%, 6.9% and 6.7% respectively from 2013 to 2016. It has become a common fact that China’s economic growth has shifted from a high-speed growth to a medium-speed growth. Correspondingly, the total population in labor market aged from 16 to 59 decreased by 4.87 million, and its proportion in total population dropped by 0.7% in 2015. Diminishing demographic dividend pushes up labor cost, causing more pressure for China’s economy."
   ]
  },
  {
   "cell_type": "markdown",
   "id": "fffc3400",
   "metadata": {},
   "source": [
    "#### An issue is often mentioned when researching China’s economy which is happiness growth does not match economic growth. All walks of life in China has been endeavoring to find a method to ease this issue in recent years."
   ]
  },
  {
   "cell_type": "markdown",
   "id": "ee553df4",
   "metadata": {},
   "source": [
    "#### This paper utilizes CFPS (China Family Panel Studies) to track and analyze financial situations and well-beings of households, trying to outline the changes in Chinese happiness, which can contribute to policymaking. The significance of this paper situates in two major key points. Firstly, we hope to figure out whether or not people’s happiness would decline during a diminishing growth age, which can be the opposite side of “Happiness Paradox”. Happiness Paradox represents that the improvement of material life does not accord with the increment in happiness. We explore whether or not this paradox exists in China by analyzing data. Secondly, what we try to probe into is if there are other factors having more impacts on people’s happiness except income in an globalization era when economic development reaches such unprecedent level, which plays an extremely important role in policymaking"
   ]
  },
  {
   "cell_type": "markdown",
   "id": "ad7ecd36",
   "metadata": {},
   "source": [
    "#### b. Why should we care about this question?"
   ]
  },
  {
   "cell_type": "markdown",
   "id": "0214d906",
   "metadata": {},
   "source": [
    "#### 2016-2018 is a very special period for China. From this time point, China's GDP growth began to slow down significantly. And in 2019, China broke out the COVID-19. The impact of the epidemic made it difficult for us to study the relationship between Chinese residents' happiness and income. Therefore, we look at the data from 2016 to 2018 and use CFPS data to analyze whether there is a happiness paradox in China during this time period. This is a relatively innovative research. We found that there is almost no relevant literature to study the casual effect of income on Chinese happiness level in such a special period."
   ]
  },
  {
   "cell_type": "markdown",
   "id": "2d317e85",
   "metadata": {},
   "source": [
    "#### c. Literature review"
   ]
  },
  {
   "cell_type": "markdown",
   "id": "c768b7f7",
   "metadata": {},
   "source": [
    "#### There is always a paradox that: Although the average income level of the rich is higher than that of the poor, the happiness level of poor countries is almost as high as that of rich countries, a problem that later researchers called Easterlin's paradox (Easterlin, 1974). He found that relative income, not absolute income, should be used when studying this problem, that is, if the income level of all people in a country increases accordingly, the increase in happiness brought about by the increase in one's own income will be used by others. This is offset by unhappiness from rising incomes (Easterlin, 1995)."
   ]
  },
  {
   "cell_type": "markdown",
   "id": "abda4298",
   "metadata": {},
   "source": [
    "#### There are two main explanations for the research on Easterlin's paradox. The first direction is that some non-income factors can also affect people's happiness, such as local education, environment, medical level, etc. Therefore, a country's GNI cannot fully serve as a A key factor in measuring the level of regional happiness, but there are also many criticisms of the interpretation of this direction. Some economists believe that with economic growth, these non-income factors are also increasing accordingly. Generally speaking, the environment in developed countries It is not undermined by local economic development, and better economic conditions can also provide better education for local residents. From this perspective, the endogenous nature of economic growth and these non-income factors makes this statement persuasive. Greatly discounted. The second direction is that individual utility will be positively related to one’s own income level, but negatively related to the average social income level, which is why relative wage level can explain a key factor in the happiness of a country’s residents. The explanation of this paradox is also mainly carried out from this direction."
   ]
  },
  {
   "cell_type": "markdown",
   "id": "4dae87f2",
   "metadata": {},
   "source": [
    "### 2.Data"
   ]
  },
  {
   "cell_type": "markdown",
   "id": "447cbc66",
   "metadata": {},
   "source": [
    "#### a. Source of the data"
   ]
  },
  {
   "cell_type": "markdown",
   "id": "a9d10bcd",
   "metadata": {},
   "source": [
    "#### Our research data comes from 2016-2018 CFPS(Chinese Family Panel Studies) database.It is a major social science project implemented by the China Social Science Survey Center of Peking University. It aims to reflect the changes of China's society, economy, population, education and health by tracking and collecting data at the three levels of individual, family and community, and provide data for academic research and policy decision-making. The database contains many useful information that can help us to conduct relative research."
   ]
  },
  {
   "cell_type": "markdown",
   "id": "2f0da765",
   "metadata": {},
   "source": [
    "#### b. Discussion of how we deal with the data"
   ]
  },
  {
   "cell_type": "code",
   "execution_count": 1,
   "id": "1d8f79b8",
   "metadata": {},
   "outputs": [],
   "source": [
    "import pandas as pd               \n",
    "import numpy as np               \n",
    "import matplotlib.pyplot as plt  \n",
    "from matplotlib.ticker import FuncFormatter\n",
    "import seaborn as sns  \n",
    "import seaborn as sn\n",
    "from dateutil import *            \n",
    "import math                      \n",
    "import statsmodels.formula.api as smf  \n",
    "import statsmodels.api as sm     \n",
    "from collections import Counter   \n",
    "import scipy\n",
    "from sklearn.model_selection import train_test_split\n",
    "from sklearn.linear_model import LogisticRegression\n",
    "from sklearn import metrics\n",
    "from numpy.random import randn\n",
    "from sklearn.linear_model import LinearRegression\n",
    "import graphviz as gr"
   ]
  },
  {
   "cell_type": "markdown",
   "id": "7e4b0186",
   "metadata": {},
   "source": [
    "#### In order to study the accuracy, we mainly deal with the data in two ways. One is to remove the individuals whose income is 0, because we want to study the relationship between income growth and well-being, and the other is to generate log_ Income is a data item, which is convenient for us to analyze"
   ]
  },
  {
   "cell_type": "code",
   "execution_count": 2,
   "id": "4642b8d3",
   "metadata": {},
   "outputs": [],
   "source": [
    "data = pd.read_csv(\"/Users/lidengbi/Desktop/570/myfile.csv\", \n",
    "                   header=0, \n",
    "                   index_col=False)"
   ]
  },
  {
   "cell_type": "code",
   "execution_count": 3,
   "id": "b7e54d53",
   "metadata": {},
   "outputs": [
    {
     "data": {
      "text/html": [
       "<div>\n",
       "<style scoped>\n",
       "    .dataframe tbody tr th:only-of-type {\n",
       "        vertical-align: middle;\n",
       "    }\n",
       "\n",
       "    .dataframe tbody tr th {\n",
       "        vertical-align: top;\n",
       "    }\n",
       "\n",
       "    .dataframe thead th {\n",
       "        text-align: right;\n",
       "    }\n",
       "</style>\n",
       "<table border=\"1\" class=\"dataframe\">\n",
       "  <thead>\n",
       "    <tr style=\"text-align: right;\">\n",
       "      <th></th>\n",
       "      <th>age</th>\n",
       "      <th>gender</th>\n",
       "      <th>living</th>\n",
       "      <th>edu</th>\n",
       "      <th>exedu</th>\n",
       "      <th>married</th>\n",
       "      <th>income</th>\n",
       "      <th>happiness</th>\n",
       "      <th>status</th>\n",
       "      <th>party</th>\n",
       "      <th>health</th>\n",
       "      <th>y2018</th>\n",
       "      <th>y2016</th>\n",
       "      <th>logincome</th>\n",
       "    </tr>\n",
       "  </thead>\n",
       "  <tbody>\n",
       "    <tr>\n",
       "      <th>0</th>\n",
       "      <td>29</td>\n",
       "      <td>1</td>\n",
       "      <td>0</td>\n",
       "      <td>7</td>\n",
       "      <td>-8</td>\n",
       "      <td>1</td>\n",
       "      <td>100000</td>\n",
       "      <td>1</td>\n",
       "      <td>2</td>\n",
       "      <td>5</td>\n",
       "      <td>5</td>\n",
       "      <td>1</td>\n",
       "      <td>0</td>\n",
       "      <td>5.000000</td>\n",
       "    </tr>\n",
       "    <tr>\n",
       "      <th>1</th>\n",
       "      <td>21</td>\n",
       "      <td>0</td>\n",
       "      <td>1</td>\n",
       "      <td>4</td>\n",
       "      <td>7</td>\n",
       "      <td>1</td>\n",
       "      <td>30000</td>\n",
       "      <td>1</td>\n",
       "      <td>1</td>\n",
       "      <td>5</td>\n",
       "      <td>3</td>\n",
       "      <td>1</td>\n",
       "      <td>0</td>\n",
       "      <td>4.477121</td>\n",
       "    </tr>\n",
       "    <tr>\n",
       "      <th>2</th>\n",
       "      <td>28</td>\n",
       "      <td>0</td>\n",
       "      <td>1</td>\n",
       "      <td>7</td>\n",
       "      <td>-8</td>\n",
       "      <td>1</td>\n",
       "      <td>30000</td>\n",
       "      <td>1</td>\n",
       "      <td>4</td>\n",
       "      <td>5</td>\n",
       "      <td>2</td>\n",
       "      <td>1</td>\n",
       "      <td>0</td>\n",
       "      <td>4.477121</td>\n",
       "    </tr>\n",
       "    <tr>\n",
       "      <th>3</th>\n",
       "      <td>31</td>\n",
       "      <td>0</td>\n",
       "      <td>0</td>\n",
       "      <td>7</td>\n",
       "      <td>-8</td>\n",
       "      <td>1</td>\n",
       "      <td>92000</td>\n",
       "      <td>1</td>\n",
       "      <td>1</td>\n",
       "      <td>5</td>\n",
       "      <td>1</td>\n",
       "      <td>1</td>\n",
       "      <td>0</td>\n",
       "      <td>4.963788</td>\n",
       "    </tr>\n",
       "    <tr>\n",
       "      <th>4</th>\n",
       "      <td>42</td>\n",
       "      <td>1</td>\n",
       "      <td>1</td>\n",
       "      <td>6</td>\n",
       "      <td>-8</td>\n",
       "      <td>1</td>\n",
       "      <td>5000</td>\n",
       "      <td>1</td>\n",
       "      <td>2</td>\n",
       "      <td>1</td>\n",
       "      <td>2</td>\n",
       "      <td>1</td>\n",
       "      <td>0</td>\n",
       "      <td>3.698970</td>\n",
       "    </tr>\n",
       "    <tr>\n",
       "      <th>...</th>\n",
       "      <td>...</td>\n",
       "      <td>...</td>\n",
       "      <td>...</td>\n",
       "      <td>...</td>\n",
       "      <td>...</td>\n",
       "      <td>...</td>\n",
       "      <td>...</td>\n",
       "      <td>...</td>\n",
       "      <td>...</td>\n",
       "      <td>...</td>\n",
       "      <td>...</td>\n",
       "      <td>...</td>\n",
       "      <td>...</td>\n",
       "      <td>...</td>\n",
       "    </tr>\n",
       "    <tr>\n",
       "      <th>8397</th>\n",
       "      <td>22</td>\n",
       "      <td>1</td>\n",
       "      <td>1</td>\n",
       "      <td>3</td>\n",
       "      <td>3</td>\n",
       "      <td>1</td>\n",
       "      <td>30000</td>\n",
       "      <td>1</td>\n",
       "      <td>3</td>\n",
       "      <td>0</td>\n",
       "      <td>2</td>\n",
       "      <td>0</td>\n",
       "      <td>1</td>\n",
       "      <td>4.477121</td>\n",
       "    </tr>\n",
       "    <tr>\n",
       "      <th>8398</th>\n",
       "      <td>21</td>\n",
       "      <td>1</td>\n",
       "      <td>1</td>\n",
       "      <td>2</td>\n",
       "      <td>4</td>\n",
       "      <td>0</td>\n",
       "      <td>25000</td>\n",
       "      <td>1</td>\n",
       "      <td>2</td>\n",
       "      <td>0</td>\n",
       "      <td>2</td>\n",
       "      <td>0</td>\n",
       "      <td>1</td>\n",
       "      <td>4.397940</td>\n",
       "    </tr>\n",
       "    <tr>\n",
       "      <th>8399</th>\n",
       "      <td>18</td>\n",
       "      <td>1</td>\n",
       "      <td>1</td>\n",
       "      <td>1</td>\n",
       "      <td>2</td>\n",
       "      <td>0</td>\n",
       "      <td>30000</td>\n",
       "      <td>1</td>\n",
       "      <td>3</td>\n",
       "      <td>0</td>\n",
       "      <td>2</td>\n",
       "      <td>0</td>\n",
       "      <td>1</td>\n",
       "      <td>4.477121</td>\n",
       "    </tr>\n",
       "    <tr>\n",
       "      <th>8400</th>\n",
       "      <td>20</td>\n",
       "      <td>1</td>\n",
       "      <td>1</td>\n",
       "      <td>3</td>\n",
       "      <td>4</td>\n",
       "      <td>1</td>\n",
       "      <td>15000</td>\n",
       "      <td>1</td>\n",
       "      <td>3</td>\n",
       "      <td>0</td>\n",
       "      <td>2</td>\n",
       "      <td>0</td>\n",
       "      <td>1</td>\n",
       "      <td>4.176091</td>\n",
       "    </tr>\n",
       "    <tr>\n",
       "      <th>8401</th>\n",
       "      <td>22</td>\n",
       "      <td>0</td>\n",
       "      <td>1</td>\n",
       "      <td>2</td>\n",
       "      <td>3</td>\n",
       "      <td>0</td>\n",
       "      <td>42000</td>\n",
       "      <td>1</td>\n",
       "      <td>2</td>\n",
       "      <td>0</td>\n",
       "      <td>2</td>\n",
       "      <td>0</td>\n",
       "      <td>1</td>\n",
       "      <td>4.623249</td>\n",
       "    </tr>\n",
       "  </tbody>\n",
       "</table>\n",
       "<p>8402 rows × 14 columns</p>\n",
       "</div>"
      ],
      "text/plain": [
       "      age  gender  living  edu  exedu  married  income  happiness  status  \\\n",
       "0      29       1       0    7     -8        1  100000          1       2   \n",
       "1      21       0       1    4      7        1   30000          1       1   \n",
       "2      28       0       1    7     -8        1   30000          1       4   \n",
       "3      31       0       0    7     -8        1   92000          1       1   \n",
       "4      42       1       1    6     -8        1    5000          1       2   \n",
       "...   ...     ...     ...  ...    ...      ...     ...        ...     ...   \n",
       "8397   22       1       1    3      3        1   30000          1       3   \n",
       "8398   21       1       1    2      4        0   25000          1       2   \n",
       "8399   18       1       1    1      2        0   30000          1       3   \n",
       "8400   20       1       1    3      4        1   15000          1       3   \n",
       "8401   22       0       1    2      3        0   42000          1       2   \n",
       "\n",
       "      party  health  y2018  y2016  logincome  \n",
       "0         5       5      1      0   5.000000  \n",
       "1         5       3      1      0   4.477121  \n",
       "2         5       2      1      0   4.477121  \n",
       "3         5       1      1      0   4.963788  \n",
       "4         1       2      1      0   3.698970  \n",
       "...     ...     ...    ...    ...        ...  \n",
       "8397      0       2      0      1   4.477121  \n",
       "8398      0       2      0      1   4.397940  \n",
       "8399      0       2      0      1   4.477121  \n",
       "8400      0       2      0      1   4.176091  \n",
       "8401      0       2      0      1   4.623249  \n",
       "\n",
       "[8402 rows x 14 columns]"
      ]
     },
     "execution_count": 3,
     "metadata": {},
     "output_type": "execute_result"
    }
   ],
   "source": [
    "data"
   ]
  },
  {
   "cell_type": "markdown",
   "id": "88231ce6",
   "metadata": {},
   "source": [
    "#### Check the null value"
   ]
  },
  {
   "cell_type": "code",
   "execution_count": 4,
   "id": "37ee86ce",
   "metadata": {},
   "outputs": [
    {
     "data": {
      "text/plain": [
       "age          0.0\n",
       "gender       0.0\n",
       "living       0.0\n",
       "edu          0.0\n",
       "exedu        0.0\n",
       "married      0.0\n",
       "income       0.0\n",
       "happiness    0.0\n",
       "status       0.0\n",
       "party        0.0\n",
       "health       0.0\n",
       "y2018        0.0\n",
       "y2016        0.0\n",
       "logincome    0.0\n",
       "dtype: float64"
      ]
     },
     "execution_count": 4,
     "metadata": {},
     "output_type": "execute_result"
    }
   ],
   "source": [
    "data_null = data.isna().mean()\n",
    "data_null.sort_values(ascending = False)"
   ]
  },
  {
   "cell_type": "markdown",
   "id": "4e3076dc",
   "metadata": {},
   "source": [
    "#### As you can see, null value doesn't exist in our data"
   ]
  },
  {
   "cell_type": "markdown",
   "id": "6792fa80",
   "metadata": {},
   "source": [
    "#### Check the outliers"
   ]
  },
  {
   "cell_type": "code",
   "execution_count": 5,
   "id": "25b15fce",
   "metadata": {},
   "outputs": [
    {
     "data": {
      "text/plain": [
       "(8402, 14)"
      ]
     },
     "execution_count": 5,
     "metadata": {},
     "output_type": "execute_result"
    },
    {
     "data": {
      "image/png": "[encoded data removed]",
      "text/plain": [
       "<Figure size 432x432 with 1 Axes>"
      ]
     },
     "metadata": {
      "needs_background": "light"
     },
     "output_type": "display_data"
    }
   ],
   "source": [
    "outliers = ['income']\n",
    "plt.rcParams['figure.figsize'] = [6,6]\n",
    "sns.boxplot(data=data[outliers], palette=\"Set1\" ,whis=1,saturation=1, width=0.5)\n",
    "plt.title(\"Outliers Distribution\", fontsize = 12, fontweight = 'bold')\n",
    "plt.ylabel(\"Profit Range\", fontweight = 'bold')\n",
    "plt.xlabel(\"Continuous Variable\", fontweight = 'bold')\n",
    "data.shape"
   ]
  },
  {
   "cell_type": "markdown",
   "id": "a479bc79",
   "metadata": {},
   "source": [
    "#### According to the result, most of the income are lower than 200000 yuan, but the distribution of income is consistent with the basic situation in China, so we decided not to remove outliers"
   ]
  },
  {
   "cell_type": "markdown",
   "id": "16ecf941",
   "metadata": {},
   "source": [
    "#### c. Summary statistics"
   ]
  },
  {
   "cell_type": "code",
   "execution_count": 6,
   "id": "b58afb34",
   "metadata": {},
   "outputs": [
    {
     "name": "stdout",
     "output_type": "stream",
     "text": [
      "<class 'pandas.core.frame.DataFrame'>\n",
      "RangeIndex: 8402 entries, 0 to 8401\n",
      "Data columns (total 14 columns):\n",
      " #   Column     Non-Null Count  Dtype  \n",
      "---  ------     --------------  -----  \n",
      " 0   age        8402 non-null   int64  \n",
      " 1   gender     8402 non-null   int64  \n",
      " 2   living     8402 non-null   int64  \n",
      " 3   edu        8402 non-null   int64  \n",
      " 4   exedu      8402 non-null   int64  \n",
      " 5   married    8402 non-null   int64  \n",
      " 6   income     8402 non-null   int64  \n",
      " 7   happiness  8402 non-null   int64  \n",
      " 8   status     8402 non-null   int64  \n",
      " 9   party      8402 non-null   int64  \n",
      " 10  health     8402 non-null   int64  \n",
      " 11  y2018      8402 non-null   int64  \n",
      " 12  y2016      8402 non-null   int64  \n",
      " 13  logincome  8402 non-null   float64\n",
      "dtypes: float64(1), int64(13)\n",
      "memory usage: 919.1 KB\n"
     ]
    }
   ],
   "source": [
    "data.info()"
   ]
  },
  {
   "cell_type": "markdown",
   "id": "29fc768c",
   "metadata": {},
   "source": [
    "#### We draw the distribution for three main indicators"
   ]
  },
  {
   "cell_type": "code",
   "execution_count": 7,
   "id": "f2c0533b",
   "metadata": {},
   "outputs": [
    {
     "data": {
      "image/png": "[encoded data removed]",
      "text/plain": [
       "<Figure size 432x432 with 1 Axes>"
      ]
     },
     "metadata": {
      "needs_background": "light"
     },
     "output_type": "display_data"
    }
   ],
   "source": [
    "plt.rcParams['figure.figsize'] = [6,6]\n",
    "ax=(data['happiness'].value_counts()/data['happiness'].count()).sort_index().plot(kind='bar',stacked=True)\n",
    "plt.title('Distribution of Happiness')\n",
    "plt.xlabel(\"Hapiness\",fontweight = 'bold')\n",
    "plt.ylabel(\"Percentage\",fontweight = 'bold')\n",
    "def to_percent(temp, position):\n",
    "  return '%1.0f'%(100*temp) + '%'\n",
    "plt.gca().yaxis.set_major_formatter(FuncFormatter(to_percent))"
   ]
  },
  {
   "cell_type": "code",
   "execution_count": 8,
   "id": "4bdd1e93",
   "metadata": {},
   "outputs": [
    {
     "data": {
      "image/png": "[encoded data removed]",
      "text/plain": [
       "<Figure size 432x432 with 1 Axes>"
      ]
     },
     "metadata": {
      "needs_background": "light"
     },
     "output_type": "display_data"
    }
   ],
   "source": [
    "plt.rcParams['figure.figsize'] = [6,6]\n",
    "ax=(data['edu'].value_counts()/data['edu'].count()).sort_index().plot(kind='bar',stacked=True)\n",
    "ax.title.set_text('Distribution of Education')\n",
    "plt.xlabel(\"Education\",fontweight = 'bold')\n",
    "plt.ylabel(\"Percentage\",fontweight = 'bold')\n",
    "def to_percent(temp, position):\n",
    "  return '%1.0f'%(100*temp) + '%'\n",
    "plt.gca().yaxis.set_major_formatter(FuncFormatter(to_percent))"
   ]
  },
  {
   "cell_type": "code",
   "execution_count": 9,
   "id": "50a7bead",
   "metadata": {},
   "outputs": [
    {
     "data": {
      "image/png": "[encoded data removed]",
      "text/plain": [
       "<Figure size 432x432 with 1 Axes>"
      ]
     },
     "metadata": {
      "needs_background": "light"
     },
     "output_type": "display_data"
    }
   ],
   "source": [
    "plt.rcParams['figure.figsize'] = [6,6]\n",
    "ax=(data['health'].value_counts()/data['edu'].count()).sort_index().plot(kind='bar',stacked=True)\n",
    "ax.title.set_text('Distribution of Health')\n",
    "plt.xlabel(\"Health\",fontweight = 'bold')\n",
    "plt.ylabel(\"Percentage\",fontweight = 'bold')\n",
    "def to_percent(temp, position):\n",
    "  return '%1.0f'%(100*temp) + '%'\n",
    "plt.gca().yaxis.set_major_formatter(FuncFormatter(to_percent))"
   ]
  },
  {
   "cell_type": "code",
   "execution_count": 10,
   "id": "c2468df8",
   "metadata": {},
   "outputs": [],
   "source": [
    "df_categorical=data[['health', 'edu', 'gender', 'happiness','status','living']]"
   ]
  },
  {
   "cell_type": "code",
   "execution_count": 11,
   "id": "aa0f14b7",
   "metadata": {},
   "outputs": [
    {
     "data": {
      "text/plain": [
       "<function matplotlib.pyplot.show(close=None, block=None)>"
      ]
     },
     "execution_count": 11,
     "metadata": {},
     "output_type": "execute_result"
    },
    {
     "data": {
      "image/png": "[encoded data removed]",
      "text/plain": [
       "<Figure size 1008x1296 with 5 Axes>"
      ]
     },
     "metadata": {
      "needs_background": "light"
     },
     "output_type": "display_data"
    }
   ],
   "source": [
    "fig, axes = plt.subplots(figsize=(14, 18))\n",
    "plt.subplot(4, 2, 1)\n",
    "sns.countplot(x=df_categorical['health'],hue=data['happiness'])\n",
    "plt.xlabel('health')\n",
    "plt.subplot(4, 2, 2)\n",
    "sns.countplot(x=df_categorical['edu'],hue=data['happiness'])\n",
    "plt.xlabel('education')\n",
    "plt.subplot(4, 2, 3)\n",
    "sns.countplot(x=df_categorical['gender'],hue=data['happiness'])\n",
    "plt.xlabel('gender')\n",
    "plt.subplot(4, 2, 4)\n",
    "sns.countplot(x=df_categorical['status'],hue=data['happiness'])\n",
    "plt.xlabel('status')\n",
    "plt.subplot(4, 2, 5)\n",
    "sns.countplot(x=df_categorical['living'],hue=data['happiness'])\n",
    "plt.xlabel('living')\n",
    "plt.show"
   ]
  },
  {
   "cell_type": "markdown",
   "id": "13d42946",
   "metadata": {},
   "source": [
    "### 3.Model"
   ]
  },
  {
   "cell_type": "markdown",
   "id": "5d07f88b",
   "metadata": {},
   "source": [
    "#### a. OLS Regression Model"
   ]
  },
  {
   "cell_type": "code",
   "execution_count": 12,
   "id": "ba3835f0",
   "metadata": {},
   "outputs": [
    {
     "data": {
      "image/svg+xml": [
       "<?xml version=\"1.0\" encoding=\"UTF-8\" standalone=\"no\"?>\n",
       "<!DOCTYPE svg PUBLIC \"-//W3C//DTD SVG 1.1//EN\"\n",
       " \"http://www.w3.org/Graphics/SVG/1.1/DTD/svg11.dtd\">\n",
       "<!-- Generated by graphviz version 2.40.1 (20161225.0304)\n",
       " -->\n",
       "<!-- Title: %3 Pages: 1 -->\n",
       "<svg width=\"192pt\" height=\"116pt\"\n",
       " viewBox=\"0.00 0.00 192.19 116.00\" xmlns=\"http://www.w3.org/2000/svg\" xmlns:xlink=\"http://www.w3.org/1999/xlink\">\n",
       "<g id=\"graph0\" class=\"graph\" transform=\"scale(1 1) rotate(0) translate(4 112)\">\n",
       "<title>%3</title>\n",
       "<polygon fill=\"#ffffff\" stroke=\"transparent\" points=\"-4,4 -4,-112 188.1926,-112 188.1926,4 -4,4\"/>\n",
       "<!-- Income -->\n",
       "<g id=\"node1\" class=\"node\">\n",
       "<title>Income</title>\n",
       "<ellipse fill=\"none\" stroke=\"#000000\" cx=\"37.6967\" cy=\"-90\" rx=\"37.8943\" ry=\"18\"/>\n",
       "<text text-anchor=\"middle\" x=\"37.6967\" y=\"-86.3\" font-family=\"Times,serif\" font-size=\"14.00\" fill=\"#000000\">Income</text>\n",
       "</g>\n",
       "<!-- Happiness -->\n",
       "<g id=\"node2\" class=\"node\">\n",
       "<title>Happiness</title>\n",
       "<ellipse fill=\"none\" stroke=\"#000000\" cx=\"87.6967\" cy=\"-18\" rx=\"48.9926\" ry=\"18\"/>\n",
       "<text text-anchor=\"middle\" x=\"87.6967\" y=\"-14.3\" font-family=\"Times,serif\" font-size=\"14.00\" fill=\"#000000\">Happiness</text>\n",
       "</g>\n",
       "<!-- Income&#45;&gt;Happiness -->\n",
       "<g id=\"edge1\" class=\"edge\">\n",
       "<title>Income&#45;&gt;Happiness</title>\n",
       "<path fill=\"none\" stroke=\"#000000\" d=\"M49.8003,-72.5708C55.7748,-63.9675 63.1025,-53.4156 69.7167,-43.8911\"/>\n",
       "<polygon fill=\"#000000\" stroke=\"#000000\" points=\"72.702,-45.7284 75.5312,-35.5182 66.9524,-41.7356 72.702,-45.7284\"/>\n",
       "</g>\n",
       "<!-- Covarites -->\n",
       "<g id=\"node3\" class=\"node\">\n",
       "<title>Covarites</title>\n",
       "<ellipse fill=\"none\" stroke=\"#000000\" cx=\"138.6967\" cy=\"-90\" rx=\"45.4919\" ry=\"18\"/>\n",
       "<text text-anchor=\"middle\" x=\"138.6967\" y=\"-86.3\" font-family=\"Times,serif\" font-size=\"14.00\" fill=\"#000000\">Covarites</text>\n",
       "</g>\n",
       "<!-- Covarites&#45;&gt;Happiness -->\n",
       "<g id=\"edge2\" class=\"edge\">\n",
       "<title>Covarites&#45;&gt;Happiness</title>\n",
       "<path fill=\"none\" stroke=\"#000000\" d=\"M126.351,-72.5708C120.257,-63.9675 112.7827,-53.4156 106.0362,-43.8911\"/>\n",
       "<polygon fill=\"#000000\" stroke=\"#000000\" points=\"108.7417,-41.6554 100.1054,-35.5182 103.0295,-45.7016 108.7417,-41.6554\"/>\n",
       "</g>\n",
       "</g>\n",
       "</svg>\n"
      ],
      "text/plain": [
       "<graphviz.dot.Digraph at 0x7f8b3d133e50>"
      ]
     },
     "execution_count": 12,
     "metadata": {},
     "output_type": "execute_result"
    }
   ],
   "source": [
    "g = gr.Digraph()\n",
    "g.edge(\"Income\", \"Happiness\")\n",
    "g.edge(\"Covarites\", \"Happiness\")\n",
    "g"
   ]
  },
  {
   "cell_type": "markdown",
   "id": "b9300b05",
   "metadata": {},
   "source": [
    "#### No covariates regression result"
   ]
  },
  {
   "cell_type": "code",
   "execution_count": 13,
   "id": "89136188",
   "metadata": {},
   "outputs": [
    {
     "name": "stdout",
     "output_type": "stream",
     "text": [
      "                            OLS Regression Results                            \n",
      "==============================================================================\n",
      "Dep. Variable:              happiness   R-squared:                       0.000\n",
      "Model:                            OLS   Adj. R-squared:                  0.000\n",
      "Method:                 Least Squares   F-statistic:                     4.048\n",
      "Date:                Fri, 06 May 2022   Prob (F-statistic):             0.0442\n",
      "Time:                        00:19:53   Log-Likelihood:                 651.88\n",
      "No. Observations:                8402   AIC:                            -1300.\n",
      "Df Residuals:                    8400   BIC:                            -1286.\n",
      "Df Model:                           1                                         \n",
      "Covariance Type:            nonrobust                                         \n",
      "==============================================================================\n",
      "                 coef    std err          t      P>|t|      [0.025      0.975]\n",
      "------------------------------------------------------------------------------\n",
      "Intercept      0.8999      0.024     38.167      0.000       0.854       0.946\n",
      "logincome      0.0106      0.005      2.012      0.044       0.000       0.021\n",
      "==============================================================================\n",
      "Omnibus:                     6659.426   Durbin-Watson:                   2.009\n",
      "Prob(Omnibus):                  0.000   Jarque-Bera (JB):            90151.966\n",
      "Skew:                          -3.989   Prob(JB):                         0.00\n",
      "Kurtosis:                      16.923   Cond. No.                         45.3\n",
      "==============================================================================\n",
      "\n",
      "Notes:\n",
      "[1] Standard Errors assume that the covariance matrix of the errors is correctly specified.\n"
     ]
    }
   ],
   "source": [
    "result = smf.ols(formula = \"happiness ~ logincome\", data = data).fit()\n",
    "print(result.summary())"
   ]
  },
  {
   "cell_type": "markdown",
   "id": "d447f77d",
   "metadata": {},
   "source": [
    "#### the regression result with no covarites is in line with our basic knowledge"
   ]
  },
  {
   "cell_type": "markdown",
   "id": "357d0969",
   "metadata": {},
   "source": [
    "#### With covariates regression result"
   ]
  },
  {
   "cell_type": "code",
   "execution_count": 14,
   "id": "e0276a6f",
   "metadata": {},
   "outputs": [
    {
     "name": "stdout",
     "output_type": "stream",
     "text": [
      "                            OLS Regression Results                            \n",
      "==============================================================================\n",
      "Dep. Variable:              happiness   R-squared:                       0.041\n",
      "Model:                            OLS   Adj. R-squared:                  0.039\n",
      "Method:                 Least Squares   F-statistic:                     32.21\n",
      "Date:                Fri, 06 May 2022   Prob (F-statistic):           9.61e-68\n",
      "Time:                        00:19:53   Log-Likelihood:                 823.60\n",
      "No. Observations:                8402   AIC:                            -1623.\n",
      "Df Residuals:                    8390   BIC:                            -1539.\n",
      "Df Model:                          11                                         \n",
      "Covariance Type:            nonrobust                                         \n",
      "==============================================================================\n",
      "                 coef    std err          t      P>|t|      [0.025      0.975]\n",
      "------------------------------------------------------------------------------\n",
      "Intercept      0.9333      0.031     30.029      0.000       0.872       0.994\n",
      "y2018         -0.0103      0.015     -0.707      0.479      -0.039       0.018\n",
      "y2016          0.0322      0.020      1.649      0.099      -0.006       0.070\n",
      "edu            0.0061      0.002      3.801      0.000       0.003       0.009\n",
      "age           -0.0011      0.000     -3.724      0.000      -0.002      -0.001\n",
      "gender        -0.0101      0.005     -1.995      0.046      -0.020      -0.000\n",
      "living        -0.0144      0.006     -2.495      0.013      -0.026      -0.003\n",
      "married        0.0495      0.006      8.288      0.000       0.038       0.061\n",
      "status         0.0298      0.003     11.767      0.000       0.025       0.035\n",
      "party         -0.0006      0.001     -0.884      0.377      -0.002       0.001\n",
      "health        -0.0169      0.002     -7.114      0.000      -0.022      -0.012\n",
      "logincome     -0.0058      0.006     -0.974      0.330      -0.017       0.006\n",
      "==============================================================================\n",
      "Omnibus:                     6349.186   Durbin-Watson:                   2.025\n",
      "Prob(Omnibus):                  0.000   Jarque-Bera (JB):            78090.518\n",
      "Skew:                          -3.760   Prob(JB):                         0.00\n",
      "Kurtosis:                      15.904   Cond. No.                         481.\n",
      "==============================================================================\n",
      "\n",
      "Notes:\n",
      "[1] Standard Errors assume that the covariance matrix of the errors is correctly specified.\n"
     ]
    }
   ],
   "source": [
    "result = smf.ols(formula = \"happiness ~ y2018 + y2016 + edu + age + gender + living + married + status + party + health + logincome\", data = data).fit()\n",
    "print(result.summary())"
   ]
  },
  {
   "cell_type": "markdown",
   "id": "3a72f988",
   "metadata": {},
   "source": [
    "#### We can see the regression result with covarites is a total mess, the coefficients of many varibles are no in line with our common knowledge, and the t-value of logincome is also not significant, so we will use some other models."
   ]
  },
  {
   "cell_type": "markdown",
   "id": "94556a89",
   "metadata": {},
   "source": [
    "#### b.Logisitcs model"
   ]
  },
  {
   "cell_type": "code",
   "execution_count": 15,
   "id": "41a54cc8",
   "metadata": {},
   "outputs": [
    {
     "data": {
      "image/svg+xml": [
       "<?xml version=\"1.0\" encoding=\"UTF-8\" standalone=\"no\"?>\n",
       "<!DOCTYPE svg PUBLIC \"-//W3C//DTD SVG 1.1//EN\"\n",
       " \"http://www.w3.org/Graphics/SVG/1.1/DTD/svg11.dtd\">\n",
       "<!-- Generated by graphviz version 2.40.1 (20161225.0304)\n",
       " -->\n",
       "<!-- Title: %3 Pages: 1 -->\n",
       "<svg width=\"549pt\" height=\"188pt\"\n",
       " viewBox=\"0.00 0.00 548.83 188.00\" xmlns=\"http://www.w3.org/2000/svg\" xmlns:xlink=\"http://www.w3.org/1999/xlink\">\n",
       "<g id=\"graph0\" class=\"graph\" transform=\"scale(1 1) rotate(0) translate(4 184)\">\n",
       "<title>%3</title>\n",
       "<polygon fill=\"#ffffff\" stroke=\"transparent\" points=\"-4,4 -4,-184 544.8345,-184 544.8345,4 -4,4\"/>\n",
       "<!-- In Year 2018 -->\n",
       "<g id=\"node1\" class=\"node\">\n",
       "<title>In Year 2018</title>\n",
       "<ellipse fill=\"none\" stroke=\"#000000\" cx=\"188.3397\" cy=\"-162\" rx=\"58.4896\" ry=\"18\"/>\n",
       "<text text-anchor=\"middle\" x=\"188.3397\" y=\"-158.3\" font-family=\"Times,serif\" font-size=\"14.00\" fill=\"#000000\">In Year 2018</text>\n",
       "</g>\n",
       "<!-- Personal Characteristics2018 -->\n",
       "<g id=\"node2\" class=\"node\">\n",
       "<title>Personal Characteristics2018</title>\n",
       "<ellipse fill=\"none\" stroke=\"#000000\" cx=\"116.3397\" cy=\"-90\" rx=\"116.1796\" ry=\"18\"/>\n",
       "<text text-anchor=\"middle\" x=\"116.3397\" y=\"-86.3\" font-family=\"Times,serif\" font-size=\"14.00\" fill=\"#000000\">Personal Characteristics2018</text>\n",
       "</g>\n",
       "<!-- In Year 2018&#45;&gt;Personal Characteristics2018 -->\n",
       "<g id=\"edge1\" class=\"edge\">\n",
       "<title>In Year 2018&#45;&gt;Personal Characteristics2018</title>\n",
       "<path fill=\"none\" stroke=\"#000000\" d=\"M170.9105,-144.5708C162.0887,-135.749 151.2181,-124.8784 141.5071,-115.1674\"/>\n",
       "<polygon fill=\"#000000\" stroke=\"#000000\" points=\"143.9062,-112.6168 134.3603,-108.0206 138.9565,-117.5666 143.9062,-112.6168\"/>\n",
       "</g>\n",
       "<!-- Happiness 2018 -->\n",
       "<g id=\"node3\" class=\"node\">\n",
       "<title>Happiness 2018</title>\n",
       "<ellipse fill=\"none\" stroke=\"#000000\" cx=\"222.3397\" cy=\"-18\" rx=\"68.7879\" ry=\"18\"/>\n",
       "<text text-anchor=\"middle\" x=\"222.3397\" y=\"-14.3\" font-family=\"Times,serif\" font-size=\"14.00\" fill=\"#000000\">Happiness 2018</text>\n",
       "</g>\n",
       "<!-- In Year 2018&#45;&gt;Happiness 2018 -->\n",
       "<g id=\"edge3\" class=\"edge\">\n",
       "<title>In Year 2018&#45;&gt;Happiness 2018</title>\n",
       "<path fill=\"none\" stroke=\"#000000\" d=\"M211.7175,-145.2964C222.9549,-135.794 235.276,-122.8346 241.3397,-108 249.5856,-87.8264 243.6402,-63.5844 236.2907,-45.345\"/>\n",
       "<polygon fill=\"#000000\" stroke=\"#000000\" points=\"239.4824,-43.9083 232.2662,-36.151 233.0699,-46.7153 239.4824,-43.9083\"/>\n",
       "</g>\n",
       "<!-- Personal Characteristics2018&#45;&gt;Happiness 2018 -->\n",
       "<g id=\"edge2\" class=\"edge\">\n",
       "<title>Personal Characteristics2018&#45;&gt;Happiness 2018</title>\n",
       "<path fill=\"none\" stroke=\"#000000\" d=\"M142.2702,-72.3868C156.3088,-62.8512 173.811,-50.9629 188.8684,-40.7352\"/>\n",
       "<polygon fill=\"#000000\" stroke=\"#000000\" points=\"191.1012,-43.4497 197.4068,-34.9355 187.168,-37.6591 191.1012,-43.4497\"/>\n",
       "</g>\n",
       "<!-- In Year 2016 -->\n",
       "<g id=\"node4\" class=\"node\">\n",
       "<title>In Year 2016</title>\n",
       "<ellipse fill=\"none\" stroke=\"#000000\" cx=\"482.3397\" cy=\"-162\" rx=\"58.4896\" ry=\"18\"/>\n",
       "<text text-anchor=\"middle\" x=\"482.3397\" y=\"-158.3\" font-family=\"Times,serif\" font-size=\"14.00\" fill=\"#000000\">In Year 2016</text>\n",
       "</g>\n",
       "<!-- Personal Characteristics2016 -->\n",
       "<g id=\"node5\" class=\"node\">\n",
       "<title>Personal Characteristics2016</title>\n",
       "<ellipse fill=\"none\" stroke=\"#000000\" cx=\"410.3397\" cy=\"-90\" rx=\"116.1796\" ry=\"18\"/>\n",
       "<text text-anchor=\"middle\" x=\"410.3397\" y=\"-86.3\" font-family=\"Times,serif\" font-size=\"14.00\" fill=\"#000000\">Personal Characteristics2016</text>\n",
       "</g>\n",
       "<!-- In Year 2016&#45;&gt;Personal Characteristics2016 -->\n",
       "<g id=\"edge4\" class=\"edge\">\n",
       "<title>In Year 2016&#45;&gt;Personal Characteristics2016</title>\n",
       "<path fill=\"none\" stroke=\"#000000\" d=\"M464.9105,-144.5708C456.0887,-135.749 445.2181,-124.8784 435.5071,-115.1674\"/>\n",
       "<polygon fill=\"#000000\" stroke=\"#000000\" points=\"437.9062,-112.6168 428.3603,-108.0206 432.9565,-117.5666 437.9062,-112.6168\"/>\n",
       "</g>\n",
       "<!-- Happiness 2016 -->\n",
       "<g id=\"node6\" class=\"node\">\n",
       "<title>Happiness 2016</title>\n",
       "<ellipse fill=\"none\" stroke=\"#000000\" cx=\"447.3397\" cy=\"-18\" rx=\"68.7879\" ry=\"18\"/>\n",
       "<text text-anchor=\"middle\" x=\"447.3397\" y=\"-14.3\" font-family=\"Times,serif\" font-size=\"14.00\" fill=\"#000000\">Happiness 2016</text>\n",
       "</g>\n",
       "<!-- In Year 2016&#45;&gt;Happiness 2016 -->\n",
       "<g id=\"edge6\" class=\"edge\">\n",
       "<title>In Year 2016&#45;&gt;Happiness 2016</title>\n",
       "<path fill=\"none\" stroke=\"#000000\" d=\"M505.7175,-145.2964C516.9549,-135.794 529.276,-122.8346 535.3397,-108 541.3935,-93.1895 543.1534,-85.9623 535.3397,-72 526.9306,-56.9739 512.4414,-45.621 497.6191,-37.3005\"/>\n",
       "<polygon fill=\"#000000\" stroke=\"#000000\" points=\"498.8854,-34.0141 488.3984,-32.506 495.656,-40.2247 498.8854,-34.0141\"/>\n",
       "</g>\n",
       "<!-- Personal Characteristics2016&#45;&gt;Happiness 2016 -->\n",
       "<g id=\"edge5\" class=\"edge\">\n",
       "<title>Personal Characteristics2016&#45;&gt;Happiness 2016</title>\n",
       "<path fill=\"none\" stroke=\"#000000\" d=\"M419.6763,-71.8314C423.871,-63.6688 428.9065,-53.87 433.5249,-44.8827\"/>\n",
       "<polygon fill=\"#000000\" stroke=\"#000000\" points=\"436.6764,-46.4075 438.1342,-35.9134 430.4504,-43.208 436.6764,-46.4075\"/>\n",
       "</g>\n",
       "</g>\n",
       "</svg>\n"
      ],
      "text/plain": [
       "<graphviz.dot.Digraph at 0x7f8b58cbea30>"
      ]
     },
     "execution_count": 15,
     "metadata": {},
     "output_type": "execute_result"
    }
   ],
   "source": [
    "g = gr.Digraph()\n",
    "\n",
    "g.edge(\"In Year 2018\", \"Personal Characteristics2018\")\n",
    "g.edge(\"Personal Characteristics2018\", \"Happiness 2018\")\n",
    "g.edge(\"In Year 2018\", \"Happiness 2018\")\n",
    "\n",
    "g.edge(\"In Year 2016\", \"Personal Characteristics2016\")\n",
    "g.edge(\"Personal Characteristics2016\", \"Happiness 2016\")\n",
    "g.edge(\"In Year 2016\", \"Happiness 2016\")\n",
    "g"
   ]
  },
  {
   "cell_type": "markdown",
   "id": "99700d58",
   "metadata": {},
   "source": [
    "#### We decide to add the variables step by step"
   ]
  },
  {
   "cell_type": "code",
   "execution_count": 16,
   "id": "38668393",
   "metadata": {},
   "outputs": [],
   "source": [
    "X = data[['y2018', 'y2016']]\n",
    "y = data['happiness']"
   ]
  },
  {
   "cell_type": "code",
   "execution_count": 17,
   "id": "c49a13de",
   "metadata": {},
   "outputs": [],
   "source": [
    "logit_model1=sm.Logit(y,X)"
   ]
  },
  {
   "cell_type": "code",
   "execution_count": 18,
   "id": "e2f7d89a",
   "metadata": {},
   "outputs": [
    {
     "name": "stdout",
     "output_type": "stream",
     "text": [
      "Optimization terminated successfully.\n",
      "         Current function value: 0.230897\n",
      "         Iterations 7\n",
      "                         Results: Logit\n",
      "================================================================\n",
      "Model:              Logit            Pseudo R-squared: -0.115   \n",
      "Dependent Variable: happiness        AIC:              3883.9874\n",
      "Date:               2022-05-06 00:19 BIC:              3898.0598\n",
      "No. Observations:   8402             Log-Likelihood:   -1940.0  \n",
      "Df Model:           1                LL-Null:          -1740.5  \n",
      "Df Residuals:       8400             LLR p-value:      1.0000   \n",
      "Converged:          1.0000           Scale:            1.0000   \n",
      "No. Iterations:     7.0000                                      \n",
      "------------------------------------------------------------------\n",
      "            Coef.    Std.Err.      z      P>|z|    [0.025   0.975]\n",
      "------------------------------------------------------------------\n",
      "y2018       2.8747     0.0505   56.9074   0.0000   2.7757   2.9737\n",
      "y2016       3.0744     0.3084    9.9688   0.0000   2.4699   3.6788\n",
      "================================================================\n",
      "\n"
     ]
    }
   ],
   "source": [
    "result1=logit_model1.fit()\n",
    "print(result1.summary2())"
   ]
  },
  {
   "cell_type": "code",
   "execution_count": 19,
   "id": "09743468",
   "metadata": {},
   "outputs": [],
   "source": [
    "X = data[['y2018', 'y2016', 'age', 'gender', 'living', 'status', 'married']]\n",
    "y = data['happiness']"
   ]
  },
  {
   "cell_type": "code",
   "execution_count": 20,
   "id": "1db00272",
   "metadata": {},
   "outputs": [],
   "source": [
    "logit_model2=sm.Logit(y,X)"
   ]
  },
  {
   "cell_type": "code",
   "execution_count": 21,
   "id": "1ee977f2",
   "metadata": {},
   "outputs": [
    {
     "name": "stdout",
     "output_type": "stream",
     "text": [
      "Optimization terminated successfully.\n",
      "         Current function value: 0.194943\n",
      "         Iterations 7\n",
      "                         Results: Logit\n",
      "=================================================================\n",
      "Model:              Logit            Pseudo R-squared: 0.059     \n",
      "Dependent Variable: happiness        AIC:              3289.8286 \n",
      "Date:               2022-05-06 00:19 BIC:              3339.0822 \n",
      "No. Observations:   8402             Log-Likelihood:   -1637.9   \n",
      "Df Model:           6                LL-Null:          -1740.5   \n",
      "Df Residuals:       8395             LLR p-value:      1.5352e-41\n",
      "Converged:          1.0000           Scale:            1.0000    \n",
      "No. Iterations:     7.0000                                       \n",
      "-------------------------------------------------------------------\n",
      "            Coef.    Std.Err.      z      P>|z|     [0.025   0.975]\n",
      "-------------------------------------------------------------------\n",
      "y2018       0.7512     0.1356    5.5415   0.0000    0.4855   1.0169\n",
      "y2016       1.6093     0.3354    4.7981   0.0000    0.9519   2.2667\n",
      "age        -0.0064     0.0039   -1.6508   0.0988   -0.0140   0.0012\n",
      "gender     -0.1016     0.1001   -1.0152   0.3100   -0.2979   0.0946\n",
      "living     -0.1803     0.1069   -1.6869   0.0916   -0.3898   0.0292\n",
      "status      0.7852     0.0488   16.0781   0.0000    0.6895   0.8809\n",
      "married     0.8395     0.1065    7.8813   0.0000    0.6308   1.0483\n",
      "=================================================================\n",
      "\n"
     ]
    }
   ],
   "source": [
    "result2=logit_model2.fit()\n",
    "print(result2.summary2())"
   ]
  },
  {
   "cell_type": "code",
   "execution_count": 22,
   "id": "cbe10e3a",
   "metadata": {},
   "outputs": [],
   "source": [
    "X = data[['y2018', 'y2016', 'age', 'gender', 'living', 'status', 'married', 'edu','health']]\n",
    "y = data['happiness']"
   ]
  },
  {
   "cell_type": "code",
   "execution_count": 23,
   "id": "bd75e66d",
   "metadata": {},
   "outputs": [],
   "source": [
    "logit_model3=sm.Logit(y,X)"
   ]
  },
  {
   "cell_type": "code",
   "execution_count": 24,
   "id": "73644a7c",
   "metadata": {},
   "outputs": [
    {
     "name": "stdout",
     "output_type": "stream",
     "text": [
      "Optimization terminated successfully.\n",
      "         Current function value: 0.190142\n",
      "         Iterations 8\n",
      "                         Results: Logit\n",
      "=================================================================\n",
      "Model:              Logit            Pseudo R-squared: 0.082     \n",
      "Dependent Variable: happiness        AIC:              3213.1415 \n",
      "Date:               2022-05-06 00:19 BIC:              3276.4676 \n",
      "No. Observations:   8402             Log-Likelihood:   -1597.6   \n",
      "Df Model:           8                LL-Null:          -1740.5   \n",
      "Df Residuals:       8393             LLR p-value:      4.2848e-57\n",
      "Converged:          1.0000           Scale:            1.0000    \n",
      "No. Iterations:     8.0000                                       \n",
      "-------------------------------------------------------------------\n",
      "           Coef.    Std.Err.      z      P>|z|     [0.025    0.975]\n",
      "-------------------------------------------------------------------\n",
      "y2018      0.2321     0.1770    1.3114   0.1897   -0.1148    0.5790\n",
      "y2016      1.5263     0.3441    4.4359   0.0000    0.8519    2.2006\n",
      "age        0.0054     0.0046    1.1853   0.2359   -0.0035    0.0143\n",
      "gender    -0.1571     0.1022   -1.5369   0.1243   -0.3575    0.0433\n",
      "living     0.0111     0.1125    0.0985   0.9215   -0.2095    0.2316\n",
      "status     0.6664     0.0510   13.0582   0.0000    0.5663    0.7664\n",
      "married    0.8407     0.1093    7.6894   0.0000    0.6264    1.0549\n",
      "edu        0.2225     0.0273    8.1461   0.0000    0.1689    0.2760\n",
      "health    -0.2443     0.0452   -5.4088   0.0000   -0.3329   -0.1558\n",
      "=================================================================\n",
      "\n"
     ]
    }
   ],
   "source": [
    "result3=logit_model3.fit()\n",
    "print(result3.summary2())"
   ]
  },
  {
   "cell_type": "code",
   "execution_count": 25,
   "id": "445e8a78",
   "metadata": {},
   "outputs": [],
   "source": [
    "X = data[['y2018', 'y2016', 'age', 'gender', 'living', 'status', 'married', 'edu', 'health', 'logincome']]\n",
    "y = data['happiness']"
   ]
  },
  {
   "cell_type": "code",
   "execution_count": 26,
   "id": "a9fda175",
   "metadata": {},
   "outputs": [],
   "source": [
    "logit_model4=sm.Logit(y,X)"
   ]
  },
  {
   "cell_type": "code",
   "execution_count": 27,
   "id": "4bca0c65",
   "metadata": {},
   "outputs": [
    {
     "name": "stdout",
     "output_type": "stream",
     "text": [
      "Optimization terminated successfully.\n",
      "         Current function value: 0.189270\n",
      "         Iterations 8\n",
      "                         Results: Logit\n",
      "=================================================================\n",
      "Model:              Logit            Pseudo R-squared: 0.086     \n",
      "Dependent Variable: happiness        AIC:              3200.4980 \n",
      "Date:               2022-05-06 00:19 BIC:              3270.8602 \n",
      "No. Observations:   8402             Log-Likelihood:   -1590.2   \n",
      "Df Model:           9                LL-Null:          -1740.5   \n",
      "Df Residuals:       8392             LLR p-value:      2.0851e-59\n",
      "Converged:          1.0000           Scale:            1.0000    \n",
      "No. Iterations:     8.0000                                       \n",
      "------------------------------------------------------------------\n",
      "               Coef.   Std.Err.     z     P>|z|    [0.025   0.975]\n",
      "------------------------------------------------------------------\n",
      "y2018         -0.2490    0.2349  -1.0601  0.2891  -0.7095   0.2114\n",
      "y2016          0.8768    0.3916   2.2391  0.0252   0.1093   1.6442\n",
      "age           -0.0006    0.0047  -0.1290  0.8974  -0.0099   0.0087\n",
      "gender        -0.2647    0.1071  -2.4728  0.0134  -0.4746  -0.0549\n",
      "living        -0.0904    0.1173  -0.7710  0.4407  -0.3204   0.1395\n",
      "status         0.6294    0.0520  12.0954  0.0000   0.5274   0.7314\n",
      "married        0.7942    0.1110   7.1547  0.0000   0.5766   1.0117\n",
      "edu            0.1591    0.0318   4.9989  0.0000   0.0967   0.2215\n",
      "health        -0.2770    0.0461  -6.0037  0.0000  -0.3674  -0.1866\n",
      "logincome      0.2933    0.0774   3.7877  0.0002   0.1415   0.4451\n",
      "=================================================================\n",
      "\n"
     ]
    }
   ],
   "source": [
    "result4=logit_model4.fit()\n",
    "print(result4.summary2())"
   ]
  },
  {
   "cell_type": "code",
   "execution_count": 28,
   "id": "395b6df6",
   "metadata": {},
   "outputs": [
    {
     "name": "stdout",
     "output_type": "stream",
     "text": [
      "\n",
      "===============================================================\n",
      "          happiness I happiness II happiness III happiness IIII\n",
      "---------------------------------------------------------------\n",
      "age                   -0.0064*     0.0054        -0.0006       \n",
      "                      (0.0039)     (0.0046)      (0.0047)      \n",
      "edu                                0.2225***     0.1591***     \n",
      "                                   (0.0273)      (0.0318)      \n",
      "gender                -0.1016      -0.1571       -0.2647**     \n",
      "                      (0.1001)     (0.1022)      (0.1071)      \n",
      "health                             -0.2443***    -0.2770***    \n",
      "                                   (0.0452)      (0.0461)      \n",
      "living                -0.1803*     0.0111        -0.0904       \n",
      "                      (0.1069)     (0.1125)      (0.1173)      \n",
      "logincome                                        0.2933***     \n",
      "                                                 (0.0774)      \n",
      "married               0.8395***    0.8407***     0.7942***     \n",
      "                      (0.1065)     (0.1093)      (0.1110)      \n",
      "status                0.7852***    0.6664***     0.6294***     \n",
      "                      (0.0488)     (0.0510)      (0.0520)      \n",
      "y2016     3.0744***   1.6093***    1.5263***     0.8768**      \n",
      "          (0.3084)    (0.3354)     (0.3441)      (0.3916)      \n",
      "y2018     2.8747***   0.7512***    0.2321        -0.2490       \n",
      "          (0.0505)    (0.1356)     (0.1770)      (0.2349)      \n",
      "===============================================================\n",
      "Standard errors in parentheses.\n",
      "* p<.1, ** p<.05, ***p<.01\n"
     ]
    }
   ],
   "source": [
    "from statsmodels.iolib.summary2 import summary_col\n",
    "dfoutput = summary_col([result1,result2,result3,result4],stars=True)\n",
    "print(dfoutput)"
   ]
  },
  {
   "cell_type": "markdown",
   "id": "a74b2e07",
   "metadata": {},
   "source": [
    "#### So as you can see, the logistics model performacne is significantly better than the OLS model, so in the following we will use the logit result to draw our conclusion"
   ]
  },
  {
   "cell_type": "markdown",
   "id": "84274ec4",
   "metadata": {},
   "source": [
    "#### Residual plot"
   ]
  },
  {
   "cell_type": "code",
   "execution_count": 29,
   "id": "f6c1c000",
   "metadata": {},
   "outputs": [
    {
     "data": {
      "image/png": "[encoded data removed]",
      "text/plain": [
       "<Figure size 432x432 with 1 Axes>"
      ]
     },
     "metadata": {
      "needs_background": "light"
     },
     "output_type": "display_data"
    }
   ],
   "source": [
    "g1 = sns.residplot(x='income', y='happiness', order=2,\n",
    "   data=data, scatter_kws={'color': 'r',\n",
    "   'alpha': 0.5});\n",
    "plt.show();"
   ]
  },
  {
   "cell_type": "markdown",
   "id": "03b1f955",
   "metadata": {},
   "source": [
    "#### c.Instrument variables"
   ]
  },
  {
   "cell_type": "markdown",
   "id": "9227690a",
   "metadata": {},
   "source": [
    "#### From the CFPS database, we find the varible called \"exedu\" that may have the ability to serve as the IV of education, and we want to see whether it can improve the OLS result."
   ]
  },
  {
   "cell_type": "code",
   "execution_count": 30,
   "id": "9e21a82e",
   "metadata": {},
   "outputs": [
    {
     "data": {
      "image/svg+xml": [
       "<?xml version=\"1.0\" encoding=\"UTF-8\" standalone=\"no\"?>\n",
       "<!DOCTYPE svg PUBLIC \"-//W3C//DTD SVG 1.1//EN\"\n",
       " \"http://www.w3.org/Graphics/SVG/1.1/DTD/svg11.dtd\">\n",
       "<!-- Generated by graphviz version 2.40.1 (20161225.0304)\n",
       " -->\n",
       "<!-- Title: %3 Pages: 1 -->\n",
       "<svg width=\"127pt\" height=\"188pt\"\n",
       " viewBox=\"0.00 0.00 127.44 188.00\" xmlns=\"http://www.w3.org/2000/svg\" xmlns:xlink=\"http://www.w3.org/1999/xlink\">\n",
       "<g id=\"graph0\" class=\"graph\" transform=\"scale(1 1) rotate(0) translate(4 184)\">\n",
       "<title>%3</title>\n",
       "<polygon fill=\"#ffffff\" stroke=\"transparent\" points=\"-4,4 -4,-184 123.4423,-184 123.4423,4 -4,4\"/>\n",
       "<!-- Education -->\n",
       "<g id=\"node1\" class=\"node\">\n",
       "<title>Education</title>\n",
       "<ellipse fill=\"none\" stroke=\"#000000\" cx=\"70.6967\" cy=\"-162\" rx=\"47.3916\" ry=\"18\"/>\n",
       "<text text-anchor=\"middle\" x=\"70.6967\" y=\"-158.3\" font-family=\"Times,serif\" font-size=\"14.00\" fill=\"#000000\">Education</text>\n",
       "</g>\n",
       "<!-- Income -->\n",
       "<g id=\"node2\" class=\"node\">\n",
       "<title>Income</title>\n",
       "<ellipse fill=\"none\" stroke=\"#000000\" cx=\"37.6967\" cy=\"-90\" rx=\"37.8943\" ry=\"18\"/>\n",
       "<text text-anchor=\"middle\" x=\"37.6967\" y=\"-86.3\" font-family=\"Times,serif\" font-size=\"14.00\" fill=\"#000000\">Income</text>\n",
       "</g>\n",
       "<!-- Education&#45;&gt;Income -->\n",
       "<g id=\"edge1\" class=\"edge\">\n",
       "<title>Education&#45;&gt;Income</title>\n",
       "<path fill=\"none\" stroke=\"#000000\" d=\"M62.5393,-144.2022C58.7429,-135.9192 54.1469,-125.8915 49.9455,-116.7248\"/>\n",
       "<polygon fill=\"#000000\" stroke=\"#000000\" points=\"53.1085,-115.2254 45.7601,-107.593 46.745,-118.142 53.1085,-115.2254\"/>\n",
       "</g>\n",
       "<!-- Happiness -->\n",
       "<g id=\"node3\" class=\"node\">\n",
       "<title>Happiness</title>\n",
       "<ellipse fill=\"none\" stroke=\"#000000\" cx=\"70.6967\" cy=\"-18\" rx=\"48.9926\" ry=\"18\"/>\n",
       "<text text-anchor=\"middle\" x=\"70.6967\" y=\"-14.3\" font-family=\"Times,serif\" font-size=\"14.00\" fill=\"#000000\">Happiness</text>\n",
       "</g>\n",
       "<!-- Education&#45;&gt;Happiness -->\n",
       "<g id=\"edge2\" class=\"edge\">\n",
       "<title>Education&#45;&gt;Happiness</title>\n",
       "<path fill=\"none\" stroke=\"#000000\" d=\"M76.6665,-143.7319C79.7374,-133.3756 83.153,-120.105 84.6967,-108 86.7206,-92.1285 86.7206,-87.8715 84.6967,-72 83.6113,-63.4887 81.6004,-54.4011 79.4347,-46.1555\"/>\n",
       "<polygon fill=\"#000000\" stroke=\"#000000\" points=\"82.733,-44.9542 76.6665,-36.2681 75.9922,-46.8414 82.733,-44.9542\"/>\n",
       "</g>\n",
       "<!-- Income&#45;&gt;Happiness -->\n",
       "<g id=\"edge3\" class=\"edge\">\n",
       "<title>Income&#45;&gt;Happiness</title>\n",
       "<path fill=\"none\" stroke=\"#000000\" d=\"M45.854,-72.2022C49.5824,-64.0675 54.082,-54.2501 58.2217,-45.2181\"/>\n",
       "<polygon fill=\"#000000\" stroke=\"#000000\" points=\"61.5339,-46.3915 62.5188,-35.8425 55.1705,-43.4749 61.5339,-46.3915\"/>\n",
       "</g>\n",
       "</g>\n",
       "</svg>\n"
      ],
      "text/plain": [
       "<graphviz.dot.Digraph at 0x7f8b58cca610>"
      ]
     },
     "execution_count": 30,
     "metadata": {},
     "output_type": "execute_result"
    }
   ],
   "source": [
    "g = gr.Digraph()\n",
    "g.edge(\"Education\", \"Income\")\n",
    "g.edge(\"Education\", \"Happiness\")\n",
    "g.edge(\"Income\", \"Happiness\")\n",
    "g"
   ]
  },
  {
   "cell_type": "code",
   "execution_count": 31,
   "id": "e2e1a810",
   "metadata": {},
   "outputs": [
    {
     "name": "stdout",
     "output_type": "stream",
     "text": [
      "                            OLS Regression Results                            \n",
      "==============================================================================\n",
      "Dep. Variable:                    edu   R-squared:                       0.000\n",
      "Model:                            OLS   Adj. R-squared:                  0.000\n",
      "Method:                 Least Squares   F-statistic:                     2.619\n",
      "Date:                Fri, 06 May 2022   Prob (F-statistic):              0.106\n",
      "Time:                        00:19:54   Log-Likelihood:                -16964.\n",
      "No. Observations:                8402   AIC:                         3.393e+04\n",
      "Df Residuals:                    8400   BIC:                         3.395e+04\n",
      "Df Model:                           1                                         \n",
      "Covariance Type:            nonrobust                                         \n",
      "==============================================================================\n",
      "                 coef    std err          t      P>|t|      [0.025      0.975]\n",
      "------------------------------------------------------------------------------\n",
      "Intercept      4.5751      0.028    166.283      0.000       4.521       4.629\n",
      "exedu         -0.0059      0.004     -1.618      0.106      -0.013       0.001\n",
      "==============================================================================\n",
      "Omnibus:                      239.108   Durbin-Watson:                   1.554\n",
      "Prob(Omnibus):                  0.000   Jarque-Bera (JB):              362.171\n",
      "Skew:                          -0.287   Prob(JB):                     2.27e-79\n",
      "Kurtosis:                       3.839   Cond. No.                         10.6\n",
      "==============================================================================\n",
      "\n",
      "Notes:\n",
      "[1] Standard Errors assume that the covariance matrix of the errors is correctly specified.\n"
     ]
    }
   ],
   "source": [
    "result = smf.ols(formula = \"edu ~ exedu\", data = data).fit()\n",
    "print(result.summary())\n",
    "\n",
    "data['edu_fitted'] = result.predict()  #D-hat"
   ]
  },
  {
   "cell_type": "code",
   "execution_count": 32,
   "id": "3d24c9a3",
   "metadata": {},
   "outputs": [
    {
     "name": "stdout",
     "output_type": "stream",
     "text": [
      "                            OLS Regression Results                            \n",
      "==============================================================================\n",
      "Dep. Variable:              happiness   R-squared:                       0.039\n",
      "Model:                            OLS   Adj. R-squared:                  0.038\n",
      "Method:                 Least Squares   F-statistic:                     31.22\n",
      "Date:                Fri, 06 May 2022   Prob (F-statistic):           1.55e-65\n",
      "Time:                        00:19:54   Log-Likelihood:                 818.37\n",
      "No. Observations:                8402   AIC:                            -1613.\n",
      "Df Residuals:                    8390   BIC:                            -1528.\n",
      "Df Model:                          11                                         \n",
      "Covariance Type:            nonrobust                                         \n",
      "==============================================================================\n",
      "                 coef    std err          t      P>|t|      [0.025      0.975]\n",
      "------------------------------------------------------------------------------\n",
      "Intercept      1.9097      0.480      3.981      0.000       0.969       2.850\n",
      "edu_fitted    -0.2141      0.107     -2.000      0.046      -0.424      -0.004\n",
      "age           -0.0011      0.000     -3.455      0.001      -0.002      -0.000\n",
      "gender        -0.0120      0.005     -2.383      0.017      -0.022      -0.002\n",
      "living        -0.0220      0.005     -4.001      0.000      -0.033      -0.011\n",
      "married        0.0530      0.006      8.302      0.000       0.041       0.066\n",
      "status         0.0301      0.003     11.912      0.000       0.025       0.035\n",
      "party         -0.0011      0.001     -1.656      0.098      -0.002       0.000\n",
      "health        -0.0166      0.002     -6.960      0.000      -0.021      -0.012\n",
      "y2018          0.0088      0.015      0.578      0.563      -0.021       0.038\n",
      "y2016          0.0271      0.019      1.393      0.164      -0.011       0.065\n",
      "logincome     -0.0003      0.006     -0.046      0.963      -0.012       0.011\n",
      "==============================================================================\n",
      "Omnibus:                     6359.769   Durbin-Watson:                   2.021\n",
      "Prob(Omnibus):                  0.000   Jarque-Bera (JB):            78495.855\n",
      "Skew:                          -3.767   Prob(JB):                         0.00\n",
      "Kurtosis:                      15.940   Cond. No.                     7.30e+03\n",
      "==============================================================================\n",
      "\n",
      "Notes:\n",
      "[1] Standard Errors assume that the covariance matrix of the errors is correctly specified.\n",
      "[2] The condition number is large, 7.3e+03. This might indicate that there are\n",
      "strong multicollinearity or other numerical problems.\n"
     ]
    }
   ],
   "source": [
    "result = smf.ols(formula = \"happiness ~ edu_fitted + age + gender + living + married + status + party + health + y2018 + y2016 + logincome\", data=data).fit()\n",
    "print(result.summary())"
   ]
  },
  {
   "cell_type": "markdown",
   "id": "9159624b",
   "metadata": {},
   "source": [
    "#### Base on the results of first-stage regression, we found that the F-value of the regression is 2.78 which is below 10, indicating the selected instrument variable didn't pass the test. Thus, the results of IV model is not reliable to explain the relationship between happiness and the selected influening factors."
   ]
  },
  {
   "cell_type": "markdown",
   "id": "c2ebe97d",
   "metadata": {},
   "source": [
    "#### d. Improved OLS：By adding interaction term"
   ]
  },
  {
   "cell_type": "code",
   "execution_count": 33,
   "id": "a6ce4de0",
   "metadata": {},
   "outputs": [
    {
     "name": "stdout",
     "output_type": "stream",
     "text": [
      "                            OLS Regression Results                            \n",
      "==============================================================================\n",
      "Dep. Variable:              happiness   R-squared:                       0.041\n",
      "Model:                            OLS   Adj. R-squared:                  0.040\n",
      "Method:                 Least Squares   F-statistic:                     29.85\n",
      "Date:                Fri, 06 May 2022   Prob (F-statistic):           8.79e-68\n",
      "Time:                        00:19:54   Log-Likelihood:                 825.51\n",
      "No. Observations:                8402   AIC:                            -1625.\n",
      "Df Residuals:                    8389   BIC:                            -1534.\n",
      "Df Model:                          12                                         \n",
      "Covariance Type:            nonrobust                                         \n",
      "=================================================================================\n",
      "                    coef    std err          t      P>|t|      [0.025      0.975]\n",
      "---------------------------------------------------------------------------------\n",
      "Intercept         1.0229      0.055     18.442      0.000       0.914       1.132\n",
      "edu              -0.0157      0.011     -1.389      0.165      -0.038       0.006\n",
      "age              -0.0012      0.000     -4.026      0.000      -0.002      -0.001\n",
      "gender           -0.0099      0.005     -1.950      0.051      -0.020    4.99e-05\n",
      "living           -0.0132      0.006     -2.279      0.023      -0.025      -0.002\n",
      "married           0.0505      0.006      8.427      0.000       0.039       0.062\n",
      "status            0.0297      0.003     11.718      0.000       0.025       0.035\n",
      "party            -0.0005      0.001     -0.656      0.512      -0.002       0.001\n",
      "health           -0.0172      0.002     -7.212      0.000      -0.022      -0.012\n",
      "y2018            -0.0091      0.015     -0.622      0.534      -0.038       0.020\n",
      "y2016             0.0332      0.020      1.701      0.089      -0.005       0.071\n",
      "logincome        -0.0261      0.012     -2.178      0.029      -0.050      -0.003\n",
      "edu:logincome     0.0050      0.003      1.951      0.051   -2.23e-05       0.010\n",
      "==============================================================================\n",
      "Omnibus:                     6346.031   Durbin-Watson:                   2.025\n",
      "Prob(Omnibus):                  0.000   Jarque-Bera (JB):            77973.246\n",
      "Skew:                          -3.757   Prob(JB):                         0.00\n",
      "Kurtosis:                      15.894   Cond. No.                         983.\n",
      "==============================================================================\n",
      "\n",
      "Notes:\n",
      "[1] Standard Errors assume that the covariance matrix of the errors is correctly specified.\n"
     ]
    }
   ],
   "source": [
    "result = smf.ols(formula = \"happiness ~ edu + age + gender + living + married + status + party + health + y2018 + y2016 + edu*logincome + logincome\", data=data).fit()\n",
    "print(result.summary())"
   ]
  },
  {
   "cell_type": "markdown",
   "id": "039b2367",
   "metadata": {},
   "source": [
    "#### After adding the interaction between education and income, we can find that the regression result of OLS is significantly better, and there is a negative relationship between income and happiness"
   ]
  },
  {
   "cell_type": "code",
   "execution_count": 34,
   "id": "60adc4b1",
   "metadata": {},
   "outputs": [
    {
     "name": "stdout",
     "output_type": "stream",
     "text": [
      "                            OLS Regression Results                            \n",
      "==============================================================================\n",
      "Dep. Variable:              happiness   R-squared:                       0.041\n",
      "Model:                            OLS   Adj. R-squared:                  0.039\n",
      "Method:                 Least Squares   F-statistic:                     29.56\n",
      "Date:                Fri, 06 May 2022   Prob (F-statistic):           4.45e-67\n",
      "Time:                        00:19:54   Log-Likelihood:                 823.84\n",
      "No. Observations:                8402   AIC:                            -1622.\n",
      "Df Residuals:                    8389   BIC:                            -1530.\n",
      "Df Model:                          12                                         \n",
      "Covariance Type:            nonrobust                                         \n",
      "====================================================================================\n",
      "                       coef    std err          t      P>|t|      [0.025      0.975]\n",
      "------------------------------------------------------------------------------------\n",
      "Intercept            0.8956      0.063     14.168      0.000       0.772       1.019\n",
      "edu                  0.0061      0.002      3.806      0.000       0.003       0.009\n",
      "age                 -0.0011      0.000     -3.781      0.000      -0.002      -0.001\n",
      "gender              -0.0101      0.005     -1.989      0.047      -0.020      -0.000\n",
      "living              -0.0145      0.006     -2.515      0.012      -0.026      -0.003\n",
      "married              0.0498      0.006      8.314      0.000       0.038       0.061\n",
      "status               0.0298      0.003     11.761      0.000       0.025       0.035\n",
      "party               -0.0006      0.001     -0.885      0.376      -0.002       0.001\n",
      "health              -0.0037      0.019     -0.191      0.848      -0.042       0.034\n",
      "y2018               -0.0096      0.015     -0.658      0.511      -0.038       0.019\n",
      "y2016                0.0330      0.020      1.688      0.091      -0.005       0.071\n",
      "logincome            0.0028      0.014      0.203      0.839      -0.024       0.030\n",
      "health:logincome    -0.0030      0.004     -0.685      0.493      -0.012       0.006\n",
      "==============================================================================\n",
      "Omnibus:                     6349.240   Durbin-Watson:                   2.025\n",
      "Prob(Omnibus):                  0.000   Jarque-Bera (JB):            78094.177\n",
      "Skew:                          -3.760   Prob(JB):                         0.00\n",
      "Kurtosis:                      15.905   Cond. No.                     1.05e+03\n",
      "==============================================================================\n",
      "\n",
      "Notes:\n",
      "[1] Standard Errors assume that the covariance matrix of the errors is correctly specified.\n",
      "[2] The condition number is large, 1.05e+03. This might indicate that there are\n",
      "strong multicollinearity or other numerical problems.\n"
     ]
    }
   ],
   "source": [
    "result = smf.ols(formula = \"happiness ~ edu + age + gender + living + married + status + party + health + y2018 + y2016 + health*logincome + logincome\", data=data).fit()\n",
    "print(result.summary())"
   ]
  },
  {
   "cell_type": "markdown",
   "id": "f64ef9f0",
   "metadata": {},
   "source": [
    "#### After adding the interaction between health and income, we can find that it is not very helpful for us to improve the OLS model\n"
   ]
  },
  {
   "cell_type": "markdown",
   "id": "8c13f1ed",
   "metadata": {},
   "source": [
    "### 4.Findings"
   ]
  },
  {
   "cell_type": "markdown",
   "id": "4b660920",
   "metadata": {},
   "source": [
    "#### a. Main findings"
   ]
  },
  {
   "cell_type": "markdown",
   "id": "bb7cde13",
   "metadata": {},
   "source": [
    "#### The improved OLS model and logit model show different results. The results of the model with the interaction of education and income show that there is a negative relationship between income and happiness. China fell into the happiness paradox during the period of economic slowdown, while the results of Logit model are on the contrary, which is the most important finding of our study."
   ]
  },
  {
   "cell_type": "markdown",
   "id": "0c1604b7",
   "metadata": {},
   "source": [
    "#### But according to the coefficient of covariates in the model, we think the result of logit model is more convinced(the OLS with interaction term shows that health has the negative relationship with happiness, which is beyond our expectations.)"
   ]
  },
  {
   "cell_type": "markdown",
   "id": "55b7966c",
   "metadata": {},
   "source": [
    "#### b. Comparison with different models"
   ]
  },
  {
   "cell_type": "markdown",
   "id": "20d4a759",
   "metadata": {},
   "source": [
    "#### In this study, we tried four methods: 1 OLS model with and without covariates 2.Logistics model 3.Instrument varible 4.Interaction term. The results of the first and third models are not statistically significant, so we do not analyze them, while the second and fourth models show diametrically opposite conclusions and are statistically significant"
   ]
  },
  {
   "cell_type": "markdown",
   "id": "4e287037",
   "metadata": {},
   "source": [
    "### 5.Conclusion"
   ]
  },
  {
   "cell_type": "markdown",
   "id": "48e789d7",
   "metadata": {},
   "source": [
    "#### a. Learnings of the project"
   ]
  },
  {
   "cell_type": "markdown",
   "id": "c8bcbaeb",
   "metadata": {},
   "source": [
    "#### Based on the result of logit model, China doesn't fall into the happniess paradox in such a special period.However,Since the reform and opening up, China has maintained a GDP growth rate of 10%, which has attracted the attention of the world. However, since 2012, China's GDP growth has begun to slow down. Scholars often attribute this situation to China's gradual entry into the aging era and no longer enjoying the demographic dividend. China has entered the dilemma faced by Japan's economic development in the 1990s."
   ]
  },
  {
   "cell_type": "markdown",
   "id": "cdf01113",
   "metadata": {},
   "source": [
    "#### In this context, the Chinese government is thinking about how to transform the growth of GDP into the happy life of the people, rather than blindly pursuing economic development and ignoring people's life. The world is currently experiencing the fourth industrial revolution. The progress of AI technology has further connected people all over the world, and people's lives are changing with each passing day. In this case, a point of view put forward in this paper, Firstly, income can indeed improve people's well-being, which is the same as the traditional view. The biggest innovation of this paper is that it is found that education level and health status can improve the improvement of income to well-being. This conclusion is particularly important in the domestic economic background of economic slowdown. People's well-being is difficult to be improved through the rapid growth of economy. We can strengthen infrastructure investment, Increase investment in medical education, so that people's income can have a greater impact on happiness."
   ]
  },
  {
   "cell_type": "markdown",
   "id": "3110f653",
   "metadata": {},
   "source": [
    "#### b. Possible improvement in the future"
   ]
  },
  {
   "cell_type": "markdown",
   "id": "5c0a0fa4",
   "metadata": {},
   "source": [
    "#### Of course, there are still some endogenous problems that have not been solved in this paper. Measuring people's happiness through objective indicators is a very challenging work. We are cautious and open to the research results, hoping to promote more in-depth research"
   ]
  },
  {
   "cell_type": "markdown",
   "id": "0d005691",
   "metadata": {},
   "source": [
    "### Reference"
   ]
  },
  {
   "cell_type": "markdown",
   "id": "80cdae30",
   "metadata": {},
   "source": [
    "#### [1]Easterlin R A . Nations and Households in Economic Growth || Does Economic Growth Improve the Human Lot? Some Empirical Evidence[J]. Elsevier Monographs, 1974:89-125."
   ]
  },
  {
   "cell_type": "markdown",
   "id": "a780d12e",
   "metadata": {},
   "source": [
    "#### [2]Easterlin R A . Will raising the incomes of all increase the happiness of all?[J]. Journal of Economic Behavior & Organization, 1995, 27(1):35-47."
   ]
  },
  {
   "cell_type": "code",
   "execution_count": null,
   "id": "7e7a1e8c",
   "metadata": {},
   "outputs": [],
   "source": []
  }
 ],
 "metadata": {
  "kernelspec": {
   "display_name": "Python 3 (ipykernel)",
   "language": "python",
   "name": "python3"
  },
  "language_info": {
   "codemirror_mode": {
    "name": "ipython",
    "version": 3
   },
   "file_extension": ".py",
   "mimetype": "text/x-python",
   "name": "python",
   "nbconvert_exporter": "python",
   "pygments_lexer": "ipython3",
   "version": "3.9.12"
  }
 },
 "nbformat": 4,
 "nbformat_minor": 5
}
